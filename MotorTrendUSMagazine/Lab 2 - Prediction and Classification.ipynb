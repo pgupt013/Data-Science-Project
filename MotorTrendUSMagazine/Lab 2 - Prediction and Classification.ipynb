{
 "cells": [
  {
   "cell_type": "markdown",
   "metadata": {},
   "source": [
    "# Lab 2 - Prediction and Classification\n",
    "## CAP 5771 - Principles of Data Mining\n",
    "\n",
    "    Poonam Gupta"
   ]
  },
  {
   "cell_type": "markdown",
   "metadata": {},
   "source": [
    "## Instructions\n",
    "\n",
    "Please complete this lab assignment. Follow along carefully and answer all questions. Coding tasks should be coded inline within the jupyter notebook. No additional files are need or accepted unless otherwise noted. All data files can be found in the data folder on the github repo. Please read the contents of each section, as well as the comments in each cell. Add your code where it says 'Insert your code here'. Also, please be sure to answer any questions inline in markdown."
   ]
  },
  {
   "cell_type": "markdown",
   "metadata": {},
   "source": [
    "## Objectives\n",
    "\n",
    "The data was extracted from the 1974 Motor Trend US magazine, and comprises fuel consumption and 10 aspects of automobile design and performance for 32 automobiles (1973–74 models). It contains 32 observations and 11 variables. A description of the variables is as follows:\n",
    "- mpg: Miles/(US) gallon\n",
    "- cyl: Number of cylinders\n",
    "- disp: Displacement (cu.in.)\n",
    "- hp: Gross horsepower\n",
    "- drat: Rear axle ratio\n",
    "- wt: Weight (1000 lbs)\n",
    "- qsec: 1/4 mile time\n",
    "- vs: Engine shape: (0 = V-shape, 1 = straight)\n",
    "- am: Transmission (0 = automatic, 1 = manual)\n",
    "- gear: Number of forward gears\n",
    "- carb: Number of carburetors\n",
    "\n",
    "The objectives of this lab are to a) build a set of different regression models to predict the MPG given a set of features and 2) build a set of different classification models to classify cars into high-efficiency or low-efficiency vehicles.\n",
    "\n",
    "By the end of this lab, you should be able to:\n",
    "\n",
    "1. Build a regression model for prediction miles per gallon of the Motor Trends Car Roadtest Dataset\n",
    "2. Build a classification model for classifying cars as high-efficient or low-efficient\n",
    "3. Determine the important features used to classify cars into efficiency categories"
   ]
  },
  {
   "cell_type": "markdown",
   "metadata": {},
   "source": [
    "## Part 1: Regression\n",
    "### Part 1a: Simple linear regression\n",
    "\n",
    "For this part of lab 2, you will build a simple linear regression using both statsmodels and sklearn, using Motor Trend US Magazine dataset. Select one feature from the dataset to use as the input to the model in order to predict the miles per gallon. Be sure to split your dataset into a training and testing dataset. "
   ]
  },
  {
   "cell_type": "code",
   "execution_count": 1,
   "metadata": {},
   "outputs": [],
   "source": [
    "## import the required packages\n",
    "####### \n",
    "import pandas as pd\n",
    "import numpy as np\n",
    "import matplotlib.pyplot as plt\n",
    "from matplotlib import pyplot\n",
    "plt.close('all')\n",
    "import seaborn as sn\n",
    "import statsmodels.api as sm\n",
    "from sklearn.model_selection import train_test_split\n",
    "from sklearn.linear_model import LinearRegression\n",
    "from sklearn.metrics import mean_squared_error\n",
    "import sklearn.metrics as metrics\n",
    "\n",
    "from sklearn.ensemble import GradientBoostingRegressor\n",
    "from sklearn.ensemble import RandomForestRegressor\n",
    "from sklearn.svm import SVR\n",
    "from sklearn.neural_network import MLPRegressor\n",
    "from sklearn.preprocessing import StandardScaler\n",
    "from sklearn.pipeline import make_pipeline\n",
    "from sklearn.tree import DecisionTreeRegressor\n",
    "from sklearn.inspection import plot_partial_dependence\n",
    "from sklearn.linear_model import LogisticRegression\n",
    "\n",
    "from sklearn.ensemble import RandomForestClassifier\n",
    "from sklearn.ensemble import GradientBoostingClassifier\n",
    "\n",
    "from sklearn.metrics import classification_report\n",
    "from sklearn.metrics import confusion_matrix\n",
    "from sklearn.metrics import accuracy_score\n",
    "\n",
    "from sklearn.metrics import roc_curve\n",
    "from sklearn.metrics import roc_auc_score\n",
    "#######"
   ]
  },
  {
   "cell_type": "code",
   "execution_count": 2,
   "metadata": {},
   "outputs": [
    {
     "data": {
      "text/html": [
       "<div>\n",
       "<style scoped>\n",
       "    .dataframe tbody tr th:only-of-type {\n",
       "        vertical-align: middle;\n",
       "    }\n",
       "\n",
       "    .dataframe tbody tr th {\n",
       "        vertical-align: top;\n",
       "    }\n",
       "\n",
       "    .dataframe thead th {\n",
       "        text-align: right;\n",
       "    }\n",
       "</style>\n",
       "<table border=\"1\" class=\"dataframe\">\n",
       "  <thead>\n",
       "    <tr style=\"text-align: right;\">\n",
       "      <th></th>\n",
       "      <th>Unnamed: 0</th>\n",
       "      <th>mpg</th>\n",
       "      <th>cyl</th>\n",
       "      <th>disp</th>\n",
       "      <th>hp</th>\n",
       "      <th>drat</th>\n",
       "      <th>wt</th>\n",
       "      <th>qsec</th>\n",
       "      <th>vs</th>\n",
       "      <th>am</th>\n",
       "      <th>gear</th>\n",
       "      <th>carb</th>\n",
       "    </tr>\n",
       "  </thead>\n",
       "  <tbody>\n",
       "    <tr>\n",
       "      <th>0</th>\n",
       "      <td>Mazda RX4</td>\n",
       "      <td>21.0</td>\n",
       "      <td>6</td>\n",
       "      <td>160.0</td>\n",
       "      <td>110</td>\n",
       "      <td>3.9</td>\n",
       "      <td>2.620</td>\n",
       "      <td>16.46</td>\n",
       "      <td>0</td>\n",
       "      <td>1</td>\n",
       "      <td>4</td>\n",
       "      <td>4</td>\n",
       "    </tr>\n",
       "    <tr>\n",
       "      <th>1</th>\n",
       "      <td>Mazda RX4 Wag</td>\n",
       "      <td>21.0</td>\n",
       "      <td>6</td>\n",
       "      <td>160.0</td>\n",
       "      <td>110</td>\n",
       "      <td>3.9</td>\n",
       "      <td>2.875</td>\n",
       "      <td>17.02</td>\n",
       "      <td>0</td>\n",
       "      <td>1</td>\n",
       "      <td>4</td>\n",
       "      <td>4</td>\n",
       "    </tr>\n",
       "  </tbody>\n",
       "</table>\n",
       "</div>"
      ],
      "text/plain": [
       "      Unnamed: 0   mpg  cyl   disp   hp  drat     wt   qsec  vs  am  gear  \\\n",
       "0      Mazda RX4  21.0    6  160.0  110   3.9  2.620  16.46   0   1     4   \n",
       "1  Mazda RX4 Wag  21.0    6  160.0  110   3.9  2.875  17.02   0   1     4   \n",
       "\n",
       "   carb  \n",
       "0     4  \n",
       "1     4  "
      ]
     },
     "execution_count": 2,
     "metadata": {},
     "output_type": "execute_result"
    }
   ],
   "source": [
    "# load the motor trends car dataset. the dataset file is located in the data folder.\n",
    "# it is called 'mtcdata.csv'\n",
    "####### \n",
    "df= pd.read_csv(\"C:\\\\Users\\\\poonam\\\\Desktop\\\\FIU\\\\2020 Spring\\\\Data Mining\\\\Lab 2\\\\mtcdata.csv\")\n",
    "df[:2]\n",
    "#######"
   ]
  },
  {
   "cell_type": "code",
   "execution_count": 3,
   "metadata": {},
   "outputs": [],
   "source": [
    "# split the dataset into a training and testing dataset\n",
    "####### \n",
    "x=df[\"hp\"].values.reshape(-1,1)\n",
    "y=df[\"mpg\"].values\n",
    "x_train, x_test, y_train, y_test = train_test_split(x, y, test_size=0.20, random_state=1)\n",
    "#######"
   ]
  },
  {
   "cell_type": "code",
   "execution_count": 4,
   "metadata": {
    "scrolled": true
   },
   "outputs": [
    {
     "name": "stdout",
     "output_type": "stream",
     "text": [
      "[21.64417516 21.81753542 19.50606527 25.16916715 14.01632365 24.36015259\n",
      " 19.50606527]\n",
      "                            OLS Regression Results                            \n",
      "==============================================================================\n",
      "Dep. Variable:                      y   R-squared:                       0.597\n",
      "Model:                            OLS   Adj. R-squared:                  0.579\n",
      "Method:                 Least Squares   F-statistic:                     34.05\n",
      "Date:                Sun, 01 Mar 2020   Prob (F-statistic):           6.03e-06\n",
      "Time:                        15:44:08   Log-Likelihood:                -64.964\n",
      "No. Observations:                  25   AIC:                             133.9\n",
      "Df Residuals:                      23   BIC:                             136.4\n",
      "Df Model:                           1                                         \n",
      "Covariance Type:            nonrobust                                         \n",
      "==============================================================================\n",
      "                 coef    std err          t      P>|t|      [0.025      0.975]\n",
      "------------------------------------------------------------------------------\n",
      "const         28.1741      1.654     17.035      0.000      24.753      31.596\n",
      "x1            -0.0578      0.010     -5.835      0.000      -0.078      -0.037\n",
      "==============================================================================\n",
      "Omnibus:                        6.628   Durbin-Watson:                   2.208\n",
      "Prob(Omnibus):                  0.036   Jarque-Bera (JB):                4.635\n",
      "Skew:                           0.796   Prob(JB):                       0.0985\n",
      "Kurtosis:                       4.385   Cond. No.                         407.\n",
      "==============================================================================\n",
      "\n",
      "Warnings:\n",
      "[1] Standard Errors assume that the covariance matrix of the errors is correctly specified.\n",
      "Mean square error is:  27.34293333333333\n"
     ]
    }
   ],
   "source": [
    "# build a linear model using statsmodels \n",
    "####### \n",
    "x_train_c=sm.add_constant(x_train)\n",
    "x_test_c=sm.add_constant(x_test)\n",
    "model = sm.OLS(y_train,x_train_c).fit()\n",
    "predictions = model.predict(x_test_c)\n",
    "print(predictions)\n",
    "print(model.summary())\n",
    "#print(model.params)\n",
    "print(\"Mean square error is: \",model.mse_total)\n",
    "\n",
    "#######"
   ]
  },
  {
   "cell_type": "code",
   "execution_count": 5,
   "metadata": {},
   "outputs": [
    {
     "name": "stdout",
     "output_type": "stream",
     "text": [
      "[21.64417516 21.81753542 19.50606527 25.16916715 14.01632365 24.36015259\n",
      " 19.50606527]\n",
      "Linear regression score: 0.596842 \n",
      "Linear model coefficients: -0.057787 \n",
      "Linear model y intercept: 28.174078 \n",
      "Mean square error is:  29.134777098686293\n"
     ]
    }
   ],
   "source": [
    "# build a linear model using sklearn \n",
    "####### \n",
    "reg=LinearRegression() # create a model\n",
    "model1=reg.fit(x_train, y_train) # fit a model\n",
    "#print(x_test)\n",
    "y_pred=model1.predict(x_test)\n",
    "print(y_pred)\n",
    "print(\"Linear regression score: %f \" % reg.score(x_train, y_train))\n",
    "print(\"Linear model coefficients: %f \" % reg.coef_)\n",
    "print(\"Linear model y intercept: %f \" % reg.intercept_)\n",
    "print(\"Mean square error is: \",mean_squared_error(y_test,y_pred))\n",
    "#######"
   ]
  },
  {
   "cell_type": "code",
   "execution_count": 6,
   "metadata": {},
   "outputs": [
    {
     "data": {
      "image/png": "[encoded data removed]",
      "text/plain": [
       "<Figure size 432x288 with 1 Axes>"
      ]
     },
     "metadata": {
      "needs_background": "light"
     },
     "output_type": "display_data"
    }
   ],
   "source": [
    "# plot the testing set as a scatter plot, along with the lines for each of the linear models, one from \n",
    "# statsmodels, and one from sklearn. be sure to add labels to the x and y axis, as well as,\n",
    "# a legend. also, be sure to print out the mean square error for each model on the testing set.\n",
    "plt.scatter(x,y,label='Scatter Plot')\n",
    "plt.rcParams['figure.figsize'] = (12.0, 4.0)\n",
    "plt.plot(x_test,predictions,color='green',label='Regression Line using statsmodels')\n",
    "plt.plot(x_test,y_pred,color='red',linewidth=2,label='Regression Line using sklearn')\n",
    "plt.xlabel('hp')\n",
    "plt.ylabel('mpg')\n",
    "plt.title('simple linear regression')\n",
    "plt.legend()\n",
    "plt.show()"
   ]
  },
  {
   "cell_type": "markdown",
   "metadata": {},
   "source": [
    "How do the models compare? In other words, take a look at the coefficients and intercept of the model. How far off are they from each other? Is there another feature that may be better for predicting miles per gallon? How does the performance of the models on the testing set improve by using this feature? By using both features?"
   ]
  },
  {
   "cell_type": "markdown",
   "metadata": {},
   "source": [
    "### Both models produce same coefficients and  y intercepts. Yes, there is a possibility that the feature Number of cylinders or weight may be better in predicting overall miles per gallon. we also observed that the size of the training set also effects the results."
   ]
  },
  {
   "cell_type": "markdown",
   "metadata": {},
   "source": [
    "### Part 1b: Complex model regression: Random Forest Regression, SVM Regression, ANN Regression, Gradient Boosted Decision Tree Regression\n",
    "\n",
    "Repeat the exercise for part 1a, but using the following forms of regession:\n",
    "- Random Forest Regression\n",
    "- SVM Regression\n",
    "- ANN Regression\n",
    "- Gradient Boosted Decision Tree Regression\n",
    "\n",
    "You can read more about these types of regression models from the sklearn documentation [here.](https://scikit-learn.org/stable/supervised_learning.html#supervised-learning)\n",
    "\n",
    "How do the results compare based on MSE on the testing data?"
   ]
  },
  {
   "cell_type": "code",
   "execution_count": 7,
   "metadata": {},
   "outputs": [
    {
     "name": "stderr",
     "output_type": "stream",
     "text": [
      "C:\\Users\\poonam\\Anaconda3\\lib\\site-packages\\sklearn\\svm\\base.py:193: FutureWarning: The default value of gamma will change from 'auto' to 'scale' in version 0.22 to account better for unscaled features. Set gamma explicitly to 'auto' or 'scale' to avoid this warning.\n",
      "  \"avoid this warning.\", FutureWarning)\n"
     ]
    },
    {
     "data": {
      "text/plain": [
       "Pipeline(memory=None,\n",
       "         steps=[('standardscaler',\n",
       "                 StandardScaler(copy=True, with_mean=True, with_std=True)),\n",
       "                ('mlpregressor',\n",
       "                 MLPRegressor(activation='relu', alpha=0.0001,\n",
       "                              batch_size='auto', beta_1=0.9, beta_2=0.999,\n",
       "                              early_stopping=False, epsilon=1e-08,\n",
       "                              hidden_layer_sizes=(100, 100),\n",
       "                              learning_rate='constant',\n",
       "                              learning_rate_init=0.001, max_iter=500,\n",
       "                              momentum=0.9, n_iter_no_change=10,\n",
       "                              nesterovs_momentum=True, power_t=0.5,\n",
       "                              random_state=0, shuffle=True, solver='adam',\n",
       "                              tol=0.01, validation_fraction=0.1, verbose=False,\n",
       "                              warm_start=False))],\n",
       "         verbose=False)"
      ]
     },
     "execution_count": 7,
     "metadata": {},
     "output_type": "execute_result"
    }
   ],
   "source": [
    "# build a random forest regression, SVM regression, ANN regression, Gradient Boosted Decision Tree Regression \n",
    "\n",
    "####### \n",
    "####### \n",
    "#   Insert your code\n",
    "#print(\"x_test\")\n",
    "#print(x_test)\n",
    "#print()\n",
    "###### Gradient Boosted Decision Tree Regression\n",
    "reg1 = GradientBoostingRegressor(random_state=1, n_estimators=10)\n",
    "reg1.fit(x_train,y_train)\n",
    "gradboost_predict = reg1.predict(x_test)\n",
    "#print(\"Gradient Boosted Decision Tree\")\n",
    "#print(gradboost_predict)\n",
    "\n",
    "\n",
    "###### Random Forest Regressor\n",
    "reg2 = RandomForestRegressor(random_state=1, n_estimators=10)\n",
    "reg2.fit(x_train,y_train)\n",
    "\n",
    "randomforest_predict = reg2.predict(x_test)\n",
    "#print(\"Random Forest\")\n",
    "#print(randomforest_predict)\n",
    "\n",
    "###### Linear regression\n",
    "reg3 = LinearRegression()\n",
    "reg3.fit(x_train,y_train)\n",
    "linear_predict = reg3.predict(x_test)\n",
    "#print(\"Linear\")\n",
    "#print(linear_predict)\n",
    "\n",
    "######SVM\n",
    "reg4 = SVR(C=1.0, epsilon=0.2)\n",
    "reg4.fit(x_train,y_train)\n",
    "svm_predict = reg4.predict(x_test)\n",
    "#print(\"SVM\")\n",
    "#print(svm_predict)\n",
    "\n",
    "###### ANN\n",
    "tree = DecisionTreeRegressor()\n",
    "mlp = make_pipeline(StandardScaler(),\n",
    "                    MLPRegressor(hidden_layer_sizes=(100, 100),\n",
    "                                 tol=1e-2, max_iter=500, random_state=0))\n",
    "tree.fit(x_train,y_train)\n",
    "mlp.fit(x_train,y_train)\n",
    "#######"
   ]
  },
  {
   "cell_type": "code",
   "execution_count": 8,
   "metadata": {},
   "outputs": [
    {
     "data": {
      "image/png": "[encoded data removed]",
      "text/plain": [
       "<Figure size 864x288 with 1 Axes>"
      ]
     },
     "metadata": {
      "needs_background": "light"
     },
     "output_type": "display_data"
    }
   ],
   "source": [
    "### plot all models\n",
    "plt.figure()\n",
    "plt.plot((y_test),'r^',label='Original')\n",
    "plt.plot(gradboost_predict, 'gd', label='GradientBoostingRegressor')\n",
    "plt.plot(randomforest_predict, 'b^', label='RandomForestRegressor')\n",
    "plt.plot(linear_predict, 'ys', label='LinearRegression')\n",
    "plt.plot(svm_predict, 'r*', label='SVM')\n",
    "\n",
    "plt.tick_params(axis='x', which='both', bottom=False, top=False,\n",
    "                labelbottom=False)\n",
    "plt.ylabel('predicted')\n",
    "plt.xlabel('training samples')\n",
    "plt.legend(loc=\"best\")\n",
    "plt.title('Comparison between various models')\n",
    "plt.show()"
   ]
  },
  {
   "cell_type": "code",
   "execution_count": 9,
   "metadata": {},
   "outputs": [
    {
     "name": "stdout",
     "output_type": "stream",
     "text": [
      "Mean square error for Gradient Boosted Decision Tree Regression:  36.83116684745441\n",
      "Mean square error for Random Forest Regressor:  24.684926240079335\n",
      "Mean square error for Linear regression:  29.134777098686293\n",
      "Mean square error for SVM:  63.29146823318774\n"
     ]
    }
   ],
   "source": [
    "print(\"Mean square error for Gradient Boosted Decision Tree Regression: \",mean_squared_error(y_test,gradboost_predict))\n",
    "print(\"Mean square error for Random Forest Regressor: \",mean_squared_error(y_test,randomforest_predict))\n",
    "print(\"Mean square error for Linear regression: \",mean_squared_error(y_test,linear_predict))\n",
    "print(\"Mean square error for SVM: \",mean_squared_error(y_test,svm_predict))"
   ]
  },
  {
   "cell_type": "markdown",
   "metadata": {},
   "source": [
    "### In our tests here we can see that Random Forest Regressor has least MSE and SVM has most."
   ]
  },
  {
   "cell_type": "markdown",
   "metadata": {},
   "source": [
    "## Part 2: Classification\n",
    "\n",
    "For part 2 of the lab, we will explore different classification techniques. First, however, we need to add labels to the dataset.\n",
    "\n",
    "### Part 2a: Adding labels\n",
    "\n",
    "Add a column to the motor trend car dataset that is called 'efficiency'. This will be a binary attribute, with a 0 indicating low-efficiency (those cars that have a MPG rating of less than 20 MPG) and a 1 indicating high-efficiency (those cars that have a MPG rating of greater than or equal to 20 MPG). You can do this in pandas, using the apply function and a lambda. See this [link](https://www.geeksforgeeks.org/create-a-new-column-in-pandas-dataframe-based-on-the-existing-columns/) for an example."
   ]
  },
  {
   "cell_type": "code",
   "execution_count": 10,
   "metadata": {
    "scrolled": true
   },
   "outputs": [
    {
     "data": {
      "text/html": [
       "<div>\n",
       "<style scoped>\n",
       "    .dataframe tbody tr th:only-of-type {\n",
       "        vertical-align: middle;\n",
       "    }\n",
       "\n",
       "    .dataframe tbody tr th {\n",
       "        vertical-align: top;\n",
       "    }\n",
       "\n",
       "    .dataframe thead th {\n",
       "        text-align: right;\n",
       "    }\n",
       "</style>\n",
       "<table border=\"1\" class=\"dataframe\">\n",
       "  <thead>\n",
       "    <tr style=\"text-align: right;\">\n",
       "      <th></th>\n",
       "      <th>Unnamed: 0</th>\n",
       "      <th>mpg</th>\n",
       "      <th>cyl</th>\n",
       "      <th>disp</th>\n",
       "      <th>hp</th>\n",
       "      <th>drat</th>\n",
       "      <th>wt</th>\n",
       "      <th>qsec</th>\n",
       "      <th>vs</th>\n",
       "      <th>am</th>\n",
       "      <th>gear</th>\n",
       "      <th>carb</th>\n",
       "      <th>efficiency</th>\n",
       "    </tr>\n",
       "  </thead>\n",
       "  <tbody>\n",
       "    <tr>\n",
       "      <th>0</th>\n",
       "      <td>Mazda RX4</td>\n",
       "      <td>21.0</td>\n",
       "      <td>6</td>\n",
       "      <td>160.0</td>\n",
       "      <td>110</td>\n",
       "      <td>3.90</td>\n",
       "      <td>2.620</td>\n",
       "      <td>16.46</td>\n",
       "      <td>0</td>\n",
       "      <td>1</td>\n",
       "      <td>4</td>\n",
       "      <td>4</td>\n",
       "      <td>1</td>\n",
       "    </tr>\n",
       "    <tr>\n",
       "      <th>1</th>\n",
       "      <td>Mazda RX4 Wag</td>\n",
       "      <td>21.0</td>\n",
       "      <td>6</td>\n",
       "      <td>160.0</td>\n",
       "      <td>110</td>\n",
       "      <td>3.90</td>\n",
       "      <td>2.875</td>\n",
       "      <td>17.02</td>\n",
       "      <td>0</td>\n",
       "      <td>1</td>\n",
       "      <td>4</td>\n",
       "      <td>4</td>\n",
       "      <td>1</td>\n",
       "    </tr>\n",
       "    <tr>\n",
       "      <th>2</th>\n",
       "      <td>Datsun 710</td>\n",
       "      <td>22.8</td>\n",
       "      <td>4</td>\n",
       "      <td>108.0</td>\n",
       "      <td>93</td>\n",
       "      <td>3.85</td>\n",
       "      <td>2.320</td>\n",
       "      <td>18.61</td>\n",
       "      <td>1</td>\n",
       "      <td>1</td>\n",
       "      <td>4</td>\n",
       "      <td>1</td>\n",
       "      <td>1</td>\n",
       "    </tr>\n",
       "    <tr>\n",
       "      <th>3</th>\n",
       "      <td>Hornet 4 Drive</td>\n",
       "      <td>21.4</td>\n",
       "      <td>6</td>\n",
       "      <td>258.0</td>\n",
       "      <td>110</td>\n",
       "      <td>3.08</td>\n",
       "      <td>3.215</td>\n",
       "      <td>19.44</td>\n",
       "      <td>1</td>\n",
       "      <td>0</td>\n",
       "      <td>3</td>\n",
       "      <td>1</td>\n",
       "      <td>1</td>\n",
       "    </tr>\n",
       "    <tr>\n",
       "      <th>4</th>\n",
       "      <td>Hornet Sportabout</td>\n",
       "      <td>18.7</td>\n",
       "      <td>8</td>\n",
       "      <td>360.0</td>\n",
       "      <td>175</td>\n",
       "      <td>3.15</td>\n",
       "      <td>3.440</td>\n",
       "      <td>17.02</td>\n",
       "      <td>0</td>\n",
       "      <td>0</td>\n",
       "      <td>3</td>\n",
       "      <td>2</td>\n",
       "      <td>0</td>\n",
       "    </tr>\n",
       "  </tbody>\n",
       "</table>\n",
       "</div>"
      ],
      "text/plain": [
       "          Unnamed: 0   mpg  cyl   disp   hp  drat     wt   qsec  vs  am  gear  \\\n",
       "0          Mazda RX4  21.0    6  160.0  110  3.90  2.620  16.46   0   1     4   \n",
       "1      Mazda RX4 Wag  21.0    6  160.0  110  3.90  2.875  17.02   0   1     4   \n",
       "2         Datsun 710  22.8    4  108.0   93  3.85  2.320  18.61   1   1     4   \n",
       "3     Hornet 4 Drive  21.4    6  258.0  110  3.08  3.215  19.44   1   0     3   \n",
       "4  Hornet Sportabout  18.7    8  360.0  175  3.15  3.440  17.02   0   0     3   \n",
       "\n",
       "   carb  efficiency  \n",
       "0     4           1  \n",
       "1     4           1  \n",
       "2     1           1  \n",
       "3     1           1  \n",
       "4     2           0  "
      ]
     },
     "execution_count": 10,
     "metadata": {},
     "output_type": "execute_result"
    }
   ],
   "source": [
    "# add efficiency labels to the dataset\n",
    "\n",
    "####### \n",
    "df['efficiency']= df.apply(lambda x: 1 if x.mpg >=20 else 0,axis=1)\n",
    "df[:5]\n",
    "#######"
   ]
  },
  {
   "cell_type": "markdown",
   "metadata": {},
   "source": [
    "### Part 2b: Logistic Regression\n",
    "\n",
    "Using sklearn, build a logistic regression model and train it on the data (Be sure to split your dataset into training and testing as before). You can use the same features as before, or choose new features, or use all of them! What is the final accuracy of the trained model when predicting efficiency on the testing dataset? What are your type I and type II errors? Additionally, please be sure to plot the [confusion matrix](https://scikit-learn.org/stable/modules/generated/sklearn.metrics.confusion_matrix.html), as well as the [ROC-AUC curve](https://scikit-learn.org/stable/auto_examples/model_selection/plot_roc.html)."
   ]
  },
  {
   "cell_type": "code",
   "execution_count": 11,
   "metadata": {},
   "outputs": [
    {
     "name": "stderr",
     "output_type": "stream",
     "text": [
      "C:\\Users\\poonam\\Anaconda3\\lib\\site-packages\\sklearn\\linear_model\\logistic.py:432: FutureWarning: Default solver will be changed to 'lbfgs' in 0.22. Specify a solver to silence this warning.\n",
      "  FutureWarning)\n"
     ]
    }
   ],
   "source": [
    "# build a logistic regression classifier\n",
    "####### \n",
    "xlr=df.iloc[:,[1,2,4]].values\n",
    "ylr=df[\"efficiency\"].values\n",
    "xlr_train,xlr_test,ylr_train,ylr_test=train_test_split(xlr,ylr,test_size=0.4,random_state=0)\n",
    "\n",
    "logmodel=LogisticRegression()\n",
    "logmodel.fit(xlr_train,ylr_train)\n",
    "predictions=logmodel.predict(xlr_test)\n",
    "#######"
   ]
  },
  {
   "cell_type": "code",
   "execution_count": 12,
   "metadata": {},
   "outputs": [
    {
     "data": {
      "text/plain": [
       "'              precision    recall  f1-score   support\\n\\n           0       1.00      0.89      0.94         9\\n           1       0.80      1.00      0.89         4\\n\\n    accuracy                           0.92        13\\n   macro avg       0.90      0.94      0.92        13\\nweighted avg       0.94      0.92      0.93        13\\n'"
      ]
     },
     "execution_count": 12,
     "metadata": {},
     "output_type": "execute_result"
    }
   ],
   "source": [
    "classification_report(ylr_test,predictions)"
   ]
  },
  {
   "cell_type": "code",
   "execution_count": 13,
   "metadata": {},
   "outputs": [
    {
     "data": {
      "text/plain": [
       "array([[8, 1],\n",
       "       [0, 4]], dtype=int64)"
      ]
     },
     "execution_count": 13,
     "metadata": {},
     "output_type": "execute_result"
    }
   ],
   "source": [
    "cm=confusion_matrix(ylr_test,predictions)\n",
    "cm"
   ]
  },
  {
   "cell_type": "code",
   "execution_count": 14,
   "metadata": {},
   "outputs": [
    {
     "name": "stdout",
     "output_type": "stream",
     "text": [
      "Accuracy score : 0.9230769230769231\n"
     ]
    }
   ],
   "source": [
    "print(\"Accuracy score :\",accuracy_score(ylr_test,predictions))"
   ]
  },
  {
   "cell_type": "code",
   "execution_count": 15,
   "metadata": {},
   "outputs": [
    {
     "data": {
      "image/png": "[encoded data removed]",
      "text/plain": [
       "<Figure size 864x288 with 2 Axes>"
      ]
     },
     "metadata": {},
     "output_type": "display_data"
    }
   ],
   "source": [
    "####Confusion matrix\n",
    "sn.set(font_scale=1.4)\n",
    "sn.heatmap(cm,annot=True,annot_kws={\"size\":12})\n",
    "plt.show()"
   ]
  },
  {
   "cell_type": "markdown",
   "metadata": {},
   "source": [
    "### Type I error = 0 Type II error = 1"
   ]
  },
  {
   "cell_type": "code",
   "execution_count": 16,
   "metadata": {},
   "outputs": [
    {
     "name": "stdout",
     "output_type": "stream",
     "text": [
      "No Skill: ROC AUC=0.500\n",
      "Logistic: ROC AUC=1.000\n"
     ]
    },
    {
     "data": {
      "image/png": "[encoded data removed]",
      "text/plain": [
       "<Figure size 864x288 with 1 Axes>"
      ]
     },
     "metadata": {},
     "output_type": "display_data"
    }
   ],
   "source": [
    "#########ROC-AUC curve\n",
    "#xlr_train,xlr_test,ylr_train,ylr_test\n",
    "# generate a no skill prediction (majority class)\n",
    "ns_probs = [0 for _ in range(len(ylr_test))]\n",
    "\n",
    "# predict probabilities\n",
    "lr_probs = logmodel.predict_proba(xlr_test)\n",
    "# keep probabilities for the positive outcome only\n",
    "lr_probs = lr_probs[:, 1]\n",
    "# calculate scores\n",
    "ns_auc = roc_auc_score(ylr_test, ns_probs)\n",
    "lr_auc = roc_auc_score(ylr_test, lr_probs)\n",
    "\n",
    "# summarize scores\n",
    "print('No Skill: ROC AUC=%.3f' % (ns_auc))\n",
    "print('Logistic: ROC AUC=%.3f' % (lr_auc))\n",
    "# calculate roc curves\n",
    "ns_fpr, ns_tpr, _ = roc_curve(ylr_test, ns_probs)\n",
    "lr_fpr, lr_tpr, _ = roc_curve(ylr_test, lr_probs)\n",
    "# plot the roc curve for the model\n",
    "pyplot.plot(ns_fpr, ns_tpr, linestyle='--', label='No Skill')\n",
    "pyplot.plot(lr_fpr, lr_tpr, marker='.', label='Logistic')\n",
    "# axis labels\n",
    "pyplot.xlabel('False Positive Rate')\n",
    "pyplot.ylabel('True Positive Rate')\n",
    "# show the legend\n",
    "pyplot.legend()\n",
    "# show the plot\n",
    "pyplot.show()\n"
   ]
  },
  {
   "cell_type": "markdown",
   "metadata": {},
   "source": [
    "### Part 2c: Random Forest Classification vs GBDT\n",
    "\n",
    "Repeat part 2b, but using a [random forest classifier](https://scikit-learn.org/stable/modules/ensemble.html#forests-of-randomized-trees) and a [gradient boosted decision tree classifier](https://scikit-learn.org/stable/modules/ensemble.html#gradient-tree-boosting). Repeat the analysis and answer the same questions from part 2b."
   ]
  },
  {
   "cell_type": "code",
   "execution_count": 17,
   "metadata": {},
   "outputs": [
    {
     "name": "stdout",
     "output_type": "stream",
     "text": [
      "Model Score :  1.0\n"
     ]
    },
    {
     "data": {
      "text/plain": [
       "array([[9, 0],\n",
       "       [0, 4]], dtype=int64)"
      ]
     },
     "execution_count": 17,
     "metadata": {},
     "output_type": "execute_result"
    }
   ],
   "source": [
    "# build a random forest classifier and a GBDT classifier using sklearn\n",
    "####### \n",
    "model = RandomForestClassifier(n_estimators=10)\n",
    "model.fit(xlr_train,ylr_train)\n",
    "print(\"Model Score : \",model.score(xlr_test,ylr_test))\n",
    "y_predicted=model.predict(xlr_test)\n",
    "cm=confusion_matrix(ylr_test,y_predicted)\n",
    "cm\n",
    "#######"
   ]
  },
  {
   "cell_type": "code",
   "execution_count": 18,
   "metadata": {},
   "outputs": [
    {
     "name": "stdout",
     "output_type": "stream",
     "text": [
      "Accuracy score : 1.0\n"
     ]
    }
   ],
   "source": [
    "print(\"Accuracy score :\",accuracy_score(ylr_test,y_predicted))"
   ]
  },
  {
   "cell_type": "code",
   "execution_count": 19,
   "metadata": {},
   "outputs": [
    {
     "data": {
      "text/plain": [
       "Text(80.5, 0.5, 'Truth')"
      ]
     },
     "execution_count": 19,
     "metadata": {},
     "output_type": "execute_result"
    },
    {
     "data": {
      "image/png": "[encoded data removed]",
      "text/plain": [
       "<Figure size 864x288 with 2 Axes>"
      ]
     },
     "metadata": {},
     "output_type": "display_data"
    }
   ],
   "source": [
    "#plot of confusion matrix\n",
    "sn.heatmap(cm,annot=True)\n",
    "plt.xlabel('Predicted')\n",
    "plt.ylabel('Truth')"
   ]
  },
  {
   "cell_type": "markdown",
   "metadata": {},
   "source": [
    "### Type I error = 0 Type II error = 1"
   ]
  },
  {
   "cell_type": "code",
   "execution_count": 20,
   "metadata": {},
   "outputs": [
    {
     "name": "stdout",
     "output_type": "stream",
     "text": [
      "No Skill: ROC AUC=0.500\n",
      "Logistic: ROC AUC=1.000\n"
     ]
    },
    {
     "data": {
      "image/png": "[encoded data removed]",
      "text/plain": [
       "<Figure size 864x288 with 1 Axes>"
      ]
     },
     "metadata": {},
     "output_type": "display_data"
    }
   ],
   "source": [
    "#######ROC-AUC curve\n",
    "# generate a no skill prediction (majority class)\n",
    "ns_probs = [0 for _ in range(len(ylr_test))]\n",
    "\n",
    "# predict probabilities\n",
    "lr_probs = model.predict_proba(xlr_test)\n",
    "# keep probabilities for the positive outcome only\n",
    "lr_probs = lr_probs[:, 1]\n",
    "# calculate scores\n",
    "ns_auc = roc_auc_score(ylr_test, ns_probs)\n",
    "lr_auc = roc_auc_score(ylr_test, lr_probs)\n",
    "\n",
    "# summarize scores\n",
    "print('No Skill: ROC AUC=%.3f' % (ns_auc))\n",
    "print('Logistic: ROC AUC=%.3f' % (lr_auc))\n",
    "# calculate roc curves\n",
    "ns_fpr, ns_tpr, _ = roc_curve(ylr_test, ns_probs)\n",
    "lr_fpr, lr_tpr, _ = roc_curve(ylr_test, lr_probs)\n",
    "# plot the roc curve for the model\n",
    "pyplot.plot(ns_fpr, ns_tpr, linestyle='--', label='No Skill')\n",
    "pyplot.plot(lr_fpr, lr_tpr, marker='.', label='Logistic')\n",
    "# axis labels\n",
    "pyplot.xlabel('False Positive Rate')\n",
    "pyplot.ylabel('True Positive Rate')\n",
    "# show the legend\n",
    "pyplot.legend()\n",
    "# show the plot\n",
    "pyplot.show()"
   ]
  },
  {
   "cell_type": "code",
   "execution_count": 21,
   "metadata": {},
   "outputs": [
    {
     "data": {
      "text/plain": [
       "array([[9, 0],\n",
       "       [0, 4]], dtype=int64)"
      ]
     },
     "execution_count": 21,
     "metadata": {},
     "output_type": "execute_result"
    }
   ],
   "source": [
    "###### GBDT classifier using sklearn\n",
    "clf = GradientBoostingClassifier(n_estimators=50, learning_rate=0.1,\n",
    "     max_depth=1, random_state=0).fit(xlr_train, ylr_train)\n",
    "y_predicted=clf.predict(xlr_test)\n",
    "\n",
    "cm1=confusion_matrix(ylr_test,y_predicted)\n",
    "cm1"
   ]
  },
  {
   "cell_type": "code",
   "execution_count": 22,
   "metadata": {},
   "outputs": [
    {
     "name": "stdout",
     "output_type": "stream",
     "text": [
      "Accuracy score : 1.0\n"
     ]
    }
   ],
   "source": [
    "print(\"Accuracy score :\",accuracy_score(ylr_test,y_predicted))"
   ]
  },
  {
   "cell_type": "code",
   "execution_count": 23,
   "metadata": {
    "scrolled": true
   },
   "outputs": [
    {
     "data": {
      "text/plain": [
       "Text(80.5, 0.5, 'Truth')"
      ]
     },
     "execution_count": 23,
     "metadata": {},
     "output_type": "execute_result"
    },
    {
     "data": {
      "image/png": "[encoded data removed]",
      "text/plain": [
       "<Figure size 864x288 with 2 Axes>"
      ]
     },
     "metadata": {},
     "output_type": "display_data"
    }
   ],
   "source": [
    "#####plot of confusion matrix\n",
    "sn.heatmap(cm1,annot=True)\n",
    "plt.xlabel('Predicted')\n",
    "plt.ylabel('Truth')"
   ]
  },
  {
   "cell_type": "markdown",
   "metadata": {},
   "source": [
    "### Type I error = 0 Type II error = 0"
   ]
  },
  {
   "cell_type": "code",
   "execution_count": 24,
   "metadata": {},
   "outputs": [
    {
     "name": "stdout",
     "output_type": "stream",
     "text": [
      "No Skill: ROC AUC=0.500\n",
      "Logistic: ROC AUC=1.000\n"
     ]
    },
    {
     "data": {
      "image/png": "[encoded data removed]",
      "text/plain": [
       "<Figure size 864x288 with 1 Axes>"
      ]
     },
     "metadata": {},
     "output_type": "display_data"
    }
   ],
   "source": [
    "#####ROC-AUC curve\n",
    "# generate a no skill prediction (majority class)\n",
    "ns_probs = [0 for _ in range(len(ylr_test))]\n",
    "\n",
    "# predict probabilities\n",
    "lr_probs = clf.predict_proba(xlr_test)\n",
    "# keep probabilities for the positive outcome only\n",
    "lr_probs = lr_probs[:, 1]\n",
    "# calculate scores\n",
    "ns_auc = roc_auc_score(ylr_test, ns_probs)\n",
    "lr_auc = roc_auc_score(ylr_test, lr_probs)\n",
    "\n",
    "# summarize scores\n",
    "print('No Skill: ROC AUC=%.3f' % (ns_auc))\n",
    "print('Logistic: ROC AUC=%.3f' % (lr_auc))\n",
    "# calculate roc curves\n",
    "ns_fpr, ns_tpr, _ = roc_curve(ylr_test, ns_probs)\n",
    "lr_fpr, lr_tpr, _ = roc_curve(ylr_test, lr_probs)\n",
    "# plot the roc curve for the model\n",
    "pyplot.plot(ns_fpr, ns_tpr, linestyle='--', label='No Skill')\n",
    "pyplot.plot(lr_fpr, lr_tpr, marker='.', label='Logistic')\n",
    "# axis labels\n",
    "pyplot.xlabel('False Positive Rate')\n",
    "pyplot.ylabel('True Positive Rate')\n",
    "# show the legend\n",
    "pyplot.legend()\n",
    "# show the plot\n",
    "pyplot.show()"
   ]
  }
 ],
 "metadata": {
  "kernelspec": {
   "display_name": "Python 3",
   "language": "python",
   "name": "python3"
  },
  "language_info": {
   "codemirror_mode": {
    "name": "ipython",
    "version": 3
   },
   "file_extension": ".py",
   "mimetype": "text/x-python",
   "name": "python",
   "nbconvert_exporter": "python",
   "pygments_lexer": "ipython3",
   "version": "3.7.3"
  }
 },
 "nbformat": 4,
 "nbformat_minor": 2
}
