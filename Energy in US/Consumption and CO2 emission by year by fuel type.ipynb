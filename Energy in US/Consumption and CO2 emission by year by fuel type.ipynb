{
 "cells": [
  {
   "cell_type": "code",
   "execution_count": 1,
   "metadata": {},
   "outputs": [],
   "source": [
    "# Import the libraries\n",
    "import pandas as pd\n",
    "import numpy as np\n",
    "import matplotlib.pyplot as plt\n",
    "plt.close('all')\n",
    "from matplotlib import pyplot\n",
    "from scipy import stats\n",
    "from sklearn.linear_model import LinearRegression\n",
    "from sklearn.metrics import mean_squared_error"
   ]
  },
  {
   "cell_type": "markdown",
   "metadata": {},
   "source": [
    "# Consumption of fossil fuels(Coal, Natural Gas, Petroleum)"
   ]
  },
  {
   "cell_type": "code",
   "execution_count": 2,
   "metadata": {},
   "outputs": [
    {
     "data": {
      "text/html": [
       "<div>\n",
       "<style scoped>\n",
       "    .dataframe tbody tr th:only-of-type {\n",
       "        vertical-align: middle;\n",
       "    }\n",
       "\n",
       "    .dataframe tbody tr th {\n",
       "        vertical-align: top;\n",
       "    }\n",
       "\n",
       "    .dataframe thead th {\n",
       "        text-align: right;\n",
       "    }\n",
       "</style>\n",
       "<table border=\"1\" class=\"dataframe\">\n",
       "  <thead>\n",
       "    <tr style=\"text-align: right;\">\n",
       "      <th></th>\n",
       "      <th>Entity</th>\n",
       "      <th>Code</th>\n",
       "      <th>Year</th>\n",
       "      <th>Coal Consumption (terawatt-hours)</th>\n",
       "      <th>source</th>\n",
       "    </tr>\n",
       "  </thead>\n",
       "  <tbody>\n",
       "    <tr>\n",
       "      <th>0</th>\n",
       "      <td>Africa</td>\n",
       "      <td>NaN</td>\n",
       "      <td>1965</td>\n",
       "      <td>335.580402</td>\n",
       "      <td>coal</td>\n",
       "    </tr>\n",
       "    <tr>\n",
       "      <th>1</th>\n",
       "      <td>Africa</td>\n",
       "      <td>NaN</td>\n",
       "      <td>1966</td>\n",
       "      <td>331.361013</td>\n",
       "      <td>coal</td>\n",
       "    </tr>\n",
       "    <tr>\n",
       "      <th>2</th>\n",
       "      <td>Africa</td>\n",
       "      <td>NaN</td>\n",
       "      <td>1967</td>\n",
       "      <td>341.000471</td>\n",
       "      <td>coal</td>\n",
       "    </tr>\n",
       "    <tr>\n",
       "      <th>3</th>\n",
       "      <td>Africa</td>\n",
       "      <td>NaN</td>\n",
       "      <td>1968</td>\n",
       "      <td>355.393857</td>\n",
       "      <td>coal</td>\n",
       "    </tr>\n",
       "    <tr>\n",
       "      <th>4</th>\n",
       "      <td>Africa</td>\n",
       "      <td>NaN</td>\n",
       "      <td>1969</td>\n",
       "      <td>357.494212</td>\n",
       "      <td>coal</td>\n",
       "    </tr>\n",
       "  </tbody>\n",
       "</table>\n",
       "</div>"
      ],
      "text/plain": [
       "   Entity Code  Year  Coal Consumption (terawatt-hours) source\n",
       "0  Africa  NaN  1965                         335.580402   coal\n",
       "1  Africa  NaN  1966                         331.361013   coal\n",
       "2  Africa  NaN  1967                         341.000471   coal\n",
       "3  Africa  NaN  1968                         355.393857   coal\n",
       "4  Africa  NaN  1969                         357.494212   coal"
      ]
     },
     "execution_count": 2,
     "metadata": {},
     "output_type": "execute_result"
    }
   ],
   "source": [
    "# Read the file and add the content to dataframe\n",
    "dir=\"C:\\\\Users\\\\poonam\\\\Desktop\\\\FIU\\\\2019 Fall\\\\Data Science\\\\Data sets for project\\\\consumption dataset\\\\\"\n",
    "df_coal=pd.read_csv(dir+\"coal-consumption-by-country-terawatt-hours-twh.csv\")\n",
    "df_coal['source']=\"coal\"\n",
    "df_coal[:5]"
   ]
  },
  {
   "cell_type": "code",
   "execution_count": 3,
   "metadata": {},
   "outputs": [],
   "source": [
    "df1_coal=df_coal.rename(columns={\"Coal Consumption (terawatt-hours)\":\"consumption\"})\n",
    "#df1_coal[:5]\n",
    "\n",
    "df_gas=pd.read_csv(dir+\"gas-consumption-by-country.csv\")\n",
    "df_gas['source']=\"natural gas\"\n",
    "df1_gas=df_gas.rename(columns={\"Gas Consumption - Mtoe (terawatt-hours)\":\"consumption\"})\n",
    "#df1_gas[:5]\n",
    "\n",
    "df_oil=pd.read_csv(dir+\"oil-consumption-by-country.csv\")\n",
    "df_oil['source']=\"petroleum\"\n",
    "df1_oil=df_oil.rename(columns={\"Oil Consumption (terawatt-hours)\":\"consumption\"})\n",
    "#df1_oil[:5]\n"
   ]
  },
  {
   "cell_type": "code",
   "execution_count": 4,
   "metadata": {},
   "outputs": [],
   "source": [
    "# Club dataframes together to make one dataframe\n",
    "df=df1_coal.append(df1_gas)\n",
    "#df[:5]\n",
    "\n",
    "df_total=df.append(df1_oil)\n",
    "#df_total[:5]"
   ]
  },
  {
   "cell_type": "code",
   "execution_count": 5,
   "metadata": {},
   "outputs": [
    {
     "data": {
      "text/html": [
       "<div>\n",
       "<style scoped>\n",
       "    .dataframe tbody tr th:only-of-type {\n",
       "        vertical-align: middle;\n",
       "    }\n",
       "\n",
       "    .dataframe tbody tr th {\n",
       "        vertical-align: top;\n",
       "    }\n",
       "\n",
       "    .dataframe thead th {\n",
       "        text-align: right;\n",
       "    }\n",
       "</style>\n",
       "<table border=\"1\" class=\"dataframe\">\n",
       "  <thead>\n",
       "    <tr style=\"text-align: right;\">\n",
       "      <th>source</th>\n",
       "      <th>coal</th>\n",
       "      <th>natural gas</th>\n",
       "      <th>petroleum</th>\n",
       "    </tr>\n",
       "    <tr>\n",
       "      <th>Year</th>\n",
       "      <th></th>\n",
       "      <th></th>\n",
       "      <th></th>\n",
       "    </tr>\n",
       "  </thead>\n",
       "  <tbody>\n",
       "    <tr>\n",
       "      <th>1980</th>\n",
       "      <td>4293.980182</td>\n",
       "      <td>5337.384862</td>\n",
       "      <td>9494.472149</td>\n",
       "    </tr>\n",
       "    <tr>\n",
       "      <th>1981</th>\n",
       "      <td>4428.933885</td>\n",
       "      <td>5208.628747</td>\n",
       "      <td>8858.606378</td>\n",
       "    </tr>\n",
       "  </tbody>\n",
       "</table>\n",
       "</div>"
      ],
      "text/plain": [
       "source         coal  natural gas    petroleum\n",
       "Year                                         \n",
       "1980    4293.980182  5337.384862  9494.472149\n",
       "1981    4428.933885  5208.628747  8858.606378"
      ]
     },
     "execution_count": 5,
     "metadata": {},
     "output_type": "execute_result"
    }
   ],
   "source": [
    "# Data preparation and cleansing of data\n",
    "# This data set contains the  data for all countries from 1965-2018 \n",
    "# we need data for US from 1980-2016 for our analysis\n",
    "\n",
    "df1_total=df_total[df_total['Entity'].isin(['United States'])]\n",
    "#df1_total[:5]\n",
    "\n",
    "df2_total=df1_total[[\"Year\",\"consumption\",\"source\"]]\n",
    "#df2_total[:5]\n",
    "\n",
    "df3_total=df2_total.set_index('Year')\n",
    "df4=df3_total.sort_values(by=['Year'] )\n",
    "#df4[:5]\n",
    "\n",
    "df5=df4[df4.index >1979]\n",
    "#df5[:5]\n",
    "\n",
    "pivot_total=df5.pivot(columns='source',values='consumption')\n",
    "#pivot_total[:5]\n",
    "\n",
    "df_con=pivot_total[pivot_total.index<2017]\n",
    "df_con[:2]\n"
   ]
  },
  {
   "cell_type": "code",
   "execution_count": 6,
   "metadata": {},
   "outputs": [
    {
     "data": {
      "text/html": [
       "<div>\n",
       "<style scoped>\n",
       "    .dataframe tbody tr th:only-of-type {\n",
       "        vertical-align: middle;\n",
       "    }\n",
       "\n",
       "    .dataframe tbody tr th {\n",
       "        vertical-align: top;\n",
       "    }\n",
       "\n",
       "    .dataframe thead th {\n",
       "        text-align: right;\n",
       "    }\n",
       "</style>\n",
       "<table border=\"1\" class=\"dataframe\">\n",
       "  <thead>\n",
       "    <tr style=\"text-align: right;\">\n",
       "      <th>source</th>\n",
       "      <th>coal</th>\n",
       "      <th>natural gas</th>\n",
       "      <th>petroleum</th>\n",
       "    </tr>\n",
       "    <tr>\n",
       "      <th>Year</th>\n",
       "      <th></th>\n",
       "      <th></th>\n",
       "      <th></th>\n",
       "    </tr>\n",
       "  </thead>\n",
       "  <tbody>\n",
       "    <tr>\n",
       "      <th>1980</th>\n",
       "      <td>NaN</td>\n",
       "      <td>0.242992</td>\n",
       "      <td>0.778862</td>\n",
       "    </tr>\n",
       "    <tr>\n",
       "      <th>1981</th>\n",
       "      <td>NaN</td>\n",
       "      <td>0.176046</td>\n",
       "      <td>0.700756</td>\n",
       "    </tr>\n",
       "    <tr>\n",
       "      <th>1982</th>\n",
       "      <td>NaN</td>\n",
       "      <td>0.135007</td>\n",
       "      <td>0.732325</td>\n",
       "    </tr>\n",
       "    <tr>\n",
       "      <th>1983</th>\n",
       "      <td>NaN</td>\n",
       "      <td>0.026426</td>\n",
       "      <td>0.835321</td>\n",
       "    </tr>\n",
       "    <tr>\n",
       "      <th>1984</th>\n",
       "      <td>NaN</td>\n",
       "      <td>0.020790</td>\n",
       "      <td>0.779967</td>\n",
       "    </tr>\n",
       "    <tr>\n",
       "      <th>1985</th>\n",
       "      <td>NaN</td>\n",
       "      <td>-0.040433</td>\n",
       "      <td>0.841742</td>\n",
       "    </tr>\n",
       "    <tr>\n",
       "      <th>1986</th>\n",
       "      <td>NaN</td>\n",
       "      <td>-0.089353</td>\n",
       "      <td>1.046097</td>\n",
       "    </tr>\n",
       "    <tr>\n",
       "      <th>1987</th>\n",
       "      <td>NaN</td>\n",
       "      <td>-0.072025</td>\n",
       "      <td>0.964315</td>\n",
       "    </tr>\n",
       "    <tr>\n",
       "      <th>1988</th>\n",
       "      <td>NaN</td>\n",
       "      <td>-0.072634</td>\n",
       "      <td>0.956180</td>\n",
       "    </tr>\n",
       "    <tr>\n",
       "      <th>1989</th>\n",
       "      <td>NaN</td>\n",
       "      <td>-0.026206</td>\n",
       "      <td>0.840234</td>\n",
       "    </tr>\n",
       "    <tr>\n",
       "      <th>1990</th>\n",
       "      <td>NaN</td>\n",
       "      <td>-0.031358</td>\n",
       "      <td>0.802969</td>\n",
       "    </tr>\n",
       "    <tr>\n",
       "      <th>1991</th>\n",
       "      <td>NaN</td>\n",
       "      <td>-0.000689</td>\n",
       "      <td>0.727490</td>\n",
       "    </tr>\n",
       "    <tr>\n",
       "      <th>1992</th>\n",
       "      <td>NaN</td>\n",
       "      <td>0.026198</td>\n",
       "      <td>0.705652</td>\n",
       "    </tr>\n",
       "    <tr>\n",
       "      <th>1993</th>\n",
       "      <td>NaN</td>\n",
       "      <td>0.013937</td>\n",
       "      <td>0.679045</td>\n",
       "    </tr>\n",
       "    <tr>\n",
       "      <th>1994</th>\n",
       "      <td>NaN</td>\n",
       "      <td>0.033905</td>\n",
       "      <td>0.683819</td>\n",
       "    </tr>\n",
       "    <tr>\n",
       "      <th>1995</th>\n",
       "      <td>NaN</td>\n",
       "      <td>0.069153</td>\n",
       "      <td>0.610387</td>\n",
       "    </tr>\n",
       "    <tr>\n",
       "      <th>1996</th>\n",
       "      <td>NaN</td>\n",
       "      <td>0.041318</td>\n",
       "      <td>0.637449</td>\n",
       "    </tr>\n",
       "    <tr>\n",
       "      <th>1997</th>\n",
       "      <td>NaN</td>\n",
       "      <td>0.025882</td>\n",
       "      <td>0.650369</td>\n",
       "    </tr>\n",
       "    <tr>\n",
       "      <th>1998</th>\n",
       "      <td>NaN</td>\n",
       "      <td>-0.001252</td>\n",
       "      <td>0.707697</td>\n",
       "    </tr>\n",
       "    <tr>\n",
       "      <th>1999</th>\n",
       "      <td>NaN</td>\n",
       "      <td>0.003743</td>\n",
       "      <td>0.749323</td>\n",
       "    </tr>\n",
       "    <tr>\n",
       "      <th>2000</th>\n",
       "      <td>NaN</td>\n",
       "      <td>-0.000418</td>\n",
       "      <td>0.701629</td>\n",
       "    </tr>\n",
       "    <tr>\n",
       "      <th>2001</th>\n",
       "      <td>NaN</td>\n",
       "      <td>-0.015527</td>\n",
       "      <td>0.777667</td>\n",
       "    </tr>\n",
       "    <tr>\n",
       "      <th>2002</th>\n",
       "      <td>NaN</td>\n",
       "      <td>0.016833</td>\n",
       "      <td>0.724115</td>\n",
       "    </tr>\n",
       "    <tr>\n",
       "      <th>2003</th>\n",
       "      <td>NaN</td>\n",
       "      <td>-0.030998</td>\n",
       "      <td>0.805214</td>\n",
       "    </tr>\n",
       "    <tr>\n",
       "      <th>2004</th>\n",
       "      <td>NaN</td>\n",
       "      <td>-0.033366</td>\n",
       "      <td>0.866049</td>\n",
       "    </tr>\n",
       "    <tr>\n",
       "      <th>2005</th>\n",
       "      <td>NaN</td>\n",
       "      <td>-0.062239</td>\n",
       "      <td>0.900688</td>\n",
       "    </tr>\n",
       "    <tr>\n",
       "      <th>2006</th>\n",
       "      <td>NaN</td>\n",
       "      <td>-0.061428</td>\n",
       "      <td>0.910876</td>\n",
       "    </tr>\n",
       "    <tr>\n",
       "      <th>2007</th>\n",
       "      <td>NaN</td>\n",
       "      <td>-0.014599</td>\n",
       "      <td>0.790673</td>\n",
       "    </tr>\n",
       "    <tr>\n",
       "      <th>2008</th>\n",
       "      <td>NaN</td>\n",
       "      <td>0.008961</td>\n",
       "      <td>0.670718</td>\n",
       "    </tr>\n",
       "    <tr>\n",
       "      <th>2009</th>\n",
       "      <td>NaN</td>\n",
       "      <td>0.126570</td>\n",
       "      <td>0.620497</td>\n",
       "    </tr>\n",
       "    <tr>\n",
       "      <th>2010</th>\n",
       "      <td>NaN</td>\n",
       "      <td>0.117471</td>\n",
       "      <td>0.574342</td>\n",
       "    </tr>\n",
       "    <tr>\n",
       "      <th>2011</th>\n",
       "      <td>NaN</td>\n",
       "      <td>0.202635</td>\n",
       "      <td>0.523369</td>\n",
       "    </tr>\n",
       "    <tr>\n",
       "      <th>2012</th>\n",
       "      <td>NaN</td>\n",
       "      <td>0.422210</td>\n",
       "      <td>0.426171</td>\n",
       "    </tr>\n",
       "    <tr>\n",
       "      <th>2013</th>\n",
       "      <td>NaN</td>\n",
       "      <td>0.407775</td>\n",
       "      <td>0.414256</td>\n",
       "    </tr>\n",
       "    <tr>\n",
       "      <th>2014</th>\n",
       "      <td>NaN</td>\n",
       "      <td>0.441391</td>\n",
       "      <td>0.394690</td>\n",
       "    </tr>\n",
       "    <tr>\n",
       "      <th>2015</th>\n",
       "      <td>NaN</td>\n",
       "      <td>0.717639</td>\n",
       "      <td>0.383427</td>\n",
       "    </tr>\n",
       "    <tr>\n",
       "      <th>2016</th>\n",
       "      <td>NaN</td>\n",
       "      <td>0.891310</td>\n",
       "      <td>0.386821</td>\n",
       "    </tr>\n",
       "  </tbody>\n",
       "</table>\n",
       "</div>"
      ],
      "text/plain": [
       "source  coal  natural gas  petroleum\n",
       "Year                                \n",
       "1980     NaN     0.242992   0.778862\n",
       "1981     NaN     0.176046   0.700756\n",
       "1982     NaN     0.135007   0.732325\n",
       "1983     NaN     0.026426   0.835321\n",
       "1984     NaN     0.020790   0.779967\n",
       "1985     NaN    -0.040433   0.841742\n",
       "1986     NaN    -0.089353   1.046097\n",
       "1987     NaN    -0.072025   0.964315\n",
       "1988     NaN    -0.072634   0.956180\n",
       "1989     NaN    -0.026206   0.840234\n",
       "1990     NaN    -0.031358   0.802969\n",
       "1991     NaN    -0.000689   0.727490\n",
       "1992     NaN     0.026198   0.705652\n",
       "1993     NaN     0.013937   0.679045\n",
       "1994     NaN     0.033905   0.683819\n",
       "1995     NaN     0.069153   0.610387\n",
       "1996     NaN     0.041318   0.637449\n",
       "1997     NaN     0.025882   0.650369\n",
       "1998     NaN    -0.001252   0.707697\n",
       "1999     NaN     0.003743   0.749323\n",
       "2000     NaN    -0.000418   0.701629\n",
       "2001     NaN    -0.015527   0.777667\n",
       "2002     NaN     0.016833   0.724115\n",
       "2003     NaN    -0.030998   0.805214\n",
       "2004     NaN    -0.033366   0.866049\n",
       "2005     NaN    -0.062239   0.900688\n",
       "2006     NaN    -0.061428   0.910876\n",
       "2007     NaN    -0.014599   0.790673\n",
       "2008     NaN     0.008961   0.670718\n",
       "2009     NaN     0.126570   0.620497\n",
       "2010     NaN     0.117471   0.574342\n",
       "2011     NaN     0.202635   0.523369\n",
       "2012     NaN     0.422210   0.426171\n",
       "2013     NaN     0.407775   0.414256\n",
       "2014     NaN     0.441391   0.394690\n",
       "2015     NaN     0.717639   0.383427\n",
       "2016     NaN     0.891310   0.386821"
      ]
     },
     "execution_count": 6,
     "metadata": {},
     "output_type": "execute_result"
    }
   ],
   "source": [
    "df_con.pct_change(axis='columns')"
   ]
  },
  {
   "cell_type": "code",
   "execution_count": 7,
   "metadata": {},
   "outputs": [
    {
     "data": {
      "text/plain": [
       "Text(0, 0.5, 'Consumption of fossil fuels')"
      ]
     },
     "execution_count": 7,
     "metadata": {},
     "output_type": "execute_result"
    },
    {
     "data": {
      "image/png": "[encoded data removed]",
      "text/plain": [
       "<Figure size 864x360 with 1 Axes>"
      ]
     },
     "metadata": {
      "needs_background": "light"
     },
     "output_type": "display_data"
    }
   ],
   "source": [
    "# Stacked bar chart to see the consumption of fossil fuels(coal, natural gas and petroleum)\n",
    "pt1=df_con.plot.bar(stacked=True,figsize=(12,5),title=\"Consumption of fossil fuel in US from 1980-2016\")\n",
    "pt1.set_xlabel(\"Year\")\n",
    "pt1.set_ylabel(\"Consumption of fossil fuels\")"
   ]
  },
  {
   "cell_type": "code",
   "execution_count": 8,
   "metadata": {},
   "outputs": [
    {
     "data": {
      "text/plain": [
       "Text(0, 0.5, 'Consumption of fossil fuels')"
      ]
     },
     "execution_count": 8,
     "metadata": {},
     "output_type": "execute_result"
    },
    {
     "data": {
      "image/png": "[encoded data removed]",
      "text/plain": [
       "<Figure size 864x360 with 1 Axes>"
      ]
     },
     "metadata": {
      "needs_background": "light"
     },
     "output_type": "display_data"
    }
   ],
   "source": [
    "# bar chart for consumption of fossil fuels in US from 1980-2016\n",
    "pt=df_con.plot.bar(figsize=(12,5),title=\"Consumption of fossil fuel in US from 1980-2016\")\n",
    "pt.set_xlabel(\"Year\")\n",
    "pt.set_ylabel(\"Consumption of fossil fuels\")"
   ]
  },
  {
   "cell_type": "markdown",
   "metadata": {},
   "source": [
    "# CO2 Emission by fossil fuels(Coal, Natural Gas and Petroleum)"
   ]
  },
  {
   "cell_type": "code",
   "execution_count": 9,
   "metadata": {},
   "outputs": [
    {
     "data": {
      "text/html": [
       "<div>\n",
       "<style scoped>\n",
       "    .dataframe tbody tr th:only-of-type {\n",
       "        vertical-align: middle;\n",
       "    }\n",
       "\n",
       "    .dataframe tbody tr th {\n",
       "        vertical-align: top;\n",
       "    }\n",
       "\n",
       "    .dataframe thead th {\n",
       "        text-align: right;\n",
       "    }\n",
       "</style>\n",
       "<table border=\"1\" class=\"dataframe\">\n",
       "  <thead>\n",
       "    <tr style=\"text-align: right;\">\n",
       "      <th></th>\n",
       "      <th>State</th>\n",
       "      <th>1980</th>\n",
       "      <th>1981</th>\n",
       "      <th>1982</th>\n",
       "      <th>1983</th>\n",
       "      <th>1984</th>\n",
       "      <th>1985</th>\n",
       "      <th>1986</th>\n",
       "      <th>1987</th>\n",
       "      <th>1988</th>\n",
       "      <th>...</th>\n",
       "      <th>2007</th>\n",
       "      <th>2008</th>\n",
       "      <th>2009</th>\n",
       "      <th>2010</th>\n",
       "      <th>2011</th>\n",
       "      <th>2012</th>\n",
       "      <th>2013</th>\n",
       "      <th>2014</th>\n",
       "      <th>2015</th>\n",
       "      <th>2016</th>\n",
       "    </tr>\n",
       "  </thead>\n",
       "  <tbody>\n",
       "    <tr>\n",
       "      <th>0</th>\n",
       "      <td>Alabama</td>\n",
       "      <td>14.8</td>\n",
       "      <td>14.9</td>\n",
       "      <td>13.4</td>\n",
       "      <td>12.2</td>\n",
       "      <td>12.7</td>\n",
       "      <td>12.1</td>\n",
       "      <td>11.2</td>\n",
       "      <td>11.4</td>\n",
       "      <td>12.9</td>\n",
       "      <td>...</td>\n",
       "      <td>22.8</td>\n",
       "      <td>22.0</td>\n",
       "      <td>24.7</td>\n",
       "      <td>28.9</td>\n",
       "      <td>32.3</td>\n",
       "      <td>35.9</td>\n",
       "      <td>33.2</td>\n",
       "      <td>34.5</td>\n",
       "      <td>37.2</td>\n",
       "      <td>38.0</td>\n",
       "    </tr>\n",
       "    <tr>\n",
       "      <th>1</th>\n",
       "      <td>Alaska</td>\n",
       "      <td>8.2</td>\n",
       "      <td>6.5</td>\n",
       "      <td>12.6</td>\n",
       "      <td>12.7</td>\n",
       "      <td>13.7</td>\n",
       "      <td>11.4</td>\n",
       "      <td>11.1</td>\n",
       "      <td>13.3</td>\n",
       "      <td>15.3</td>\n",
       "      <td>...</td>\n",
       "      <td>19.7</td>\n",
       "      <td>18.2</td>\n",
       "      <td>18.2</td>\n",
       "      <td>17.8</td>\n",
       "      <td>18.0</td>\n",
       "      <td>18.4</td>\n",
       "      <td>17.6</td>\n",
       "      <td>17.5</td>\n",
       "      <td>17.7</td>\n",
       "      <td>17.6</td>\n",
       "    </tr>\n",
       "    <tr>\n",
       "      <th>2</th>\n",
       "      <td>Arizona</td>\n",
       "      <td>9.2</td>\n",
       "      <td>10.2</td>\n",
       "      <td>7.6</td>\n",
       "      <td>6.4</td>\n",
       "      <td>6.7</td>\n",
       "      <td>7.3</td>\n",
       "      <td>5.6</td>\n",
       "      <td>6.4</td>\n",
       "      <td>6.8</td>\n",
       "      <td>...</td>\n",
       "      <td>21.3</td>\n",
       "      <td>21.8</td>\n",
       "      <td>20.0</td>\n",
       "      <td>17.8</td>\n",
       "      <td>15.6</td>\n",
       "      <td>18.0</td>\n",
       "      <td>18.1</td>\n",
       "      <td>16.8</td>\n",
       "      <td>19.4</td>\n",
       "      <td>19.7</td>\n",
       "    </tr>\n",
       "    <tr>\n",
       "      <th>3</th>\n",
       "      <td>Arkansas</td>\n",
       "      <td>14.5</td>\n",
       "      <td>14.1</td>\n",
       "      <td>12.1</td>\n",
       "      <td>11.2</td>\n",
       "      <td>11.4</td>\n",
       "      <td>10.6</td>\n",
       "      <td>10.8</td>\n",
       "      <td>9.1</td>\n",
       "      <td>11.6</td>\n",
       "      <td>...</td>\n",
       "      <td>12.2</td>\n",
       "      <td>12.7</td>\n",
       "      <td>13.2</td>\n",
       "      <td>14.6</td>\n",
       "      <td>15.3</td>\n",
       "      <td>15.9</td>\n",
       "      <td>15.3</td>\n",
       "      <td>14.5</td>\n",
       "      <td>15.7</td>\n",
       "      <td>16.7</td>\n",
       "    </tr>\n",
       "    <tr>\n",
       "      <th>4</th>\n",
       "      <td>California</td>\n",
       "      <td>100.3</td>\n",
       "      <td>103.3</td>\n",
       "      <td>93.7</td>\n",
       "      <td>84.9</td>\n",
       "      <td>92.3</td>\n",
       "      <td>102.2</td>\n",
       "      <td>84.4</td>\n",
       "      <td>105.7</td>\n",
       "      <td>98.7</td>\n",
       "      <td>...</td>\n",
       "      <td>130.9</td>\n",
       "      <td>131.2</td>\n",
       "      <td>126.9</td>\n",
       "      <td>123.4</td>\n",
       "      <td>116.5</td>\n",
       "      <td>130.3</td>\n",
       "      <td>131.6</td>\n",
       "      <td>127.8</td>\n",
       "      <td>126.5</td>\n",
       "      <td>119.3</td>\n",
       "    </tr>\n",
       "  </tbody>\n",
       "</table>\n",
       "<p>5 rows × 38 columns</p>\n",
       "</div>"
      ],
      "text/plain": [
       "        State   1980   1981  1982  1983  1984   1985  1986   1987  1988  ...  \\\n",
       "0     Alabama   14.8   14.9  13.4  12.2  12.7   12.1  11.2   11.4  12.9  ...   \n",
       "1      Alaska    8.2    6.5  12.6  12.7  13.7   11.4  11.1   13.3  15.3  ...   \n",
       "2     Arizona    9.2   10.2   7.6   6.4   6.7    7.3   5.6    6.4   6.8  ...   \n",
       "3    Arkansas   14.5   14.1  12.1  11.2  11.4   10.6  10.8    9.1  11.6  ...   \n",
       "4  California  100.3  103.3  93.7  84.9  92.3  102.2  84.4  105.7  98.7  ...   \n",
       "\n",
       "    2007   2008   2009   2010   2011   2012   2013   2014   2015   2016  \n",
       "0   22.8   22.0   24.7   28.9   32.3   35.9   33.2   34.5   37.2   38.0  \n",
       "1   19.7   18.2   18.2   17.8   18.0   18.4   17.6   17.5   17.7   17.6  \n",
       "2   21.3   21.8   20.0   17.8   15.6   18.0   18.1   16.8   19.4   19.7  \n",
       "3   12.2   12.7   13.2   14.6   15.3   15.9   15.3   14.5   15.7   16.7  \n",
       "4  130.9  131.2  126.9  123.4  116.5  130.3  131.6  127.8  126.5  119.3  \n",
       "\n",
       "[5 rows x 38 columns]"
      ]
     },
     "execution_count": 9,
     "metadata": {},
     "output_type": "execute_result"
    }
   ],
   "source": [
    "# Read the files \n",
    "dir = \"C:\\\\Users\\\\poonam\\\\Desktop\\\\FIU\\\\2019 Fall\\\\Data Science\\\\Data sets for project\\\\Energy\\\\data from my research for project\\\\\"\n",
    "emission_petro=pd.read_excel(dir+'petroleum_CO2_by_state_2016.xlsx',usecols=\"A:AL\",skiprows=[0,1,54,55,56,57,58])\n",
    "\n",
    "dir = \"C:\\\\Users\\\\poonam\\\\Desktop\\\\FIU\\\\2019 Fall\\\\Data Science\\\\Data sets for project\\\\Energy\\\\data from my research for project\\\\\"\n",
    "emission_natgas=pd.read_excel(dir+'natural_gas_CO2_by_state_2016.xlsx',usecols=\"A:AL\",skiprows=[0,1,54,55,56,57,58])\n",
    "\n",
    "dir = \"C:\\\\Users\\\\poonam\\\\Desktop\\\\FIU\\\\2019 Fall\\\\Data Science\\\\Data sets for project\\\\Energy\\\\data from my research for project\\\\\"\n",
    "emission_coal=pd.read_excel(dir+'coal_CO2_by_state_2016.xlsx',usecols=\"A:AL\",skiprows=[0,1,54,55,56,57,58])\n",
    "emission_natgas[:5]\n"
   ]
  },
  {
   "cell_type": "code",
   "execution_count": 10,
   "metadata": {},
   "outputs": [
    {
     "data": {
      "text/html": [
       "<div>\n",
       "<style scoped>\n",
       "    .dataframe tbody tr th:only-of-type {\n",
       "        vertical-align: middle;\n",
       "    }\n",
       "\n",
       "    .dataframe tbody tr th {\n",
       "        vertical-align: top;\n",
       "    }\n",
       "\n",
       "    .dataframe thead th {\n",
       "        text-align: right;\n",
       "    }\n",
       "</style>\n",
       "<table border=\"1\" class=\"dataframe\">\n",
       "  <thead>\n",
       "    <tr style=\"text-align: right;\">\n",
       "      <th>source</th>\n",
       "      <th>coal</th>\n",
       "      <th>natural gas</th>\n",
       "      <th>petroleum</th>\n",
       "    </tr>\n",
       "  </thead>\n",
       "  <tbody>\n",
       "    <tr>\n",
       "      <th>1980</th>\n",
       "      <td>1443.7</td>\n",
       "      <td>1060.5</td>\n",
       "      <td>2264.0</td>\n",
       "    </tr>\n",
       "    <tr>\n",
       "      <th>1981</th>\n",
       "      <td>1490.1</td>\n",
       "      <td>1035.6</td>\n",
       "      <td>2094.8</td>\n",
       "    </tr>\n",
       "    <tr>\n",
       "      <th>1982</th>\n",
       "      <td>1430.7</td>\n",
       "      <td>964.4</td>\n",
       "      <td>1982.4</td>\n",
       "    </tr>\n",
       "    <tr>\n",
       "      <th>1983</th>\n",
       "      <td>1487.4</td>\n",
       "      <td>903.3</td>\n",
       "      <td>1971.0</td>\n",
       "    </tr>\n",
       "    <tr>\n",
       "      <th>1984</th>\n",
       "      <td>1594.4</td>\n",
       "      <td>964.7</td>\n",
       "      <td>2005.7</td>\n",
       "    </tr>\n",
       "  </tbody>\n",
       "</table>\n",
       "</div>"
      ],
      "text/plain": [
       "source    coal  natural gas  petroleum\n",
       "1980    1443.7       1060.5     2264.0\n",
       "1981    1490.1       1035.6     2094.8\n",
       "1982    1430.7        964.4     1982.4\n",
       "1983    1487.4        903.3     1971.0\n",
       "1984    1594.4        964.7     2005.7"
      ]
     },
     "execution_count": 10,
     "metadata": {},
     "output_type": "execute_result"
    }
   ],
   "source": [
    "# Data preparation for data analysis\n",
    "emission_coal['source'] = \"coal\"\n",
    "emission_natgas['source'] = \"natural gas\"\n",
    "emission_petro['source'] = \"petroleum\"\n",
    "\n",
    "df1=emission_natgas\n",
    "df1[:5]\n",
    "df2 = df1.append(emission_coal)\n",
    "#df2[:5]\n",
    "df3 = df2.append(emission_petro)\n",
    "#df3[:5]\n",
    "dftotal=df3.groupby(['source']).sum()\n",
    "dftotal[:5]\n",
    "dftot=dftotal.transpose()\n",
    "dftot[:5]"
   ]
  },
  {
   "cell_type": "code",
   "execution_count": 11,
   "metadata": {},
   "outputs": [
    {
     "data": {
      "text/plain": [
       "Text(0, 0.5, 'CO2 Emission')"
      ]
     },
     "execution_count": 11,
     "metadata": {},
     "output_type": "execute_result"
    },
    {
     "data": {
      "image/png": "[encoded data removed]",
      "text/plain": [
       "<Figure size 864x360 with 1 Axes>"
      ]
     },
     "metadata": {
      "needs_background": "light"
     },
     "output_type": "display_data"
    }
   ],
   "source": [
    "# Bar chart for CO2 emission by fossil fuels in US from 1980-2016\n",
    "plt_bar=dftot.plot.bar(figsize=(12,5),title=\"CO2 Emission by fossil fuel in US from 1980-2016\")\n",
    "plt_bar.set_xlabel(\"Year\")\n",
    "plt_bar.set_ylabel(\"CO2 Emission\")"
   ]
  },
  {
   "cell_type": "code",
   "execution_count": 12,
   "metadata": {},
   "outputs": [
    {
     "data": {
      "text/plain": [
       "Text(0, 0.5, 'CO2 Emission')"
      ]
     },
     "execution_count": 12,
     "metadata": {},
     "output_type": "execute_result"
    },
    {
     "data": {
      "image/png": "[encoded data removed]",
      "text/plain": [
       "<Figure size 864x360 with 1 Axes>"
      ]
     },
     "metadata": {
      "needs_background": "light"
     },
     "output_type": "display_data"
    }
   ],
   "source": [
    "# Stacked bar chart(another way of reprsentation) for CO2 emission by fossil fuels in US from 1980-2016\n",
    "plt_stack=dftot.plot.bar(stacked=True, figsize=(12,5),title=\"CO2 Emission by fossil fuel in US from 1980-2016\")\n",
    "plt_stack.set_xlabel(\"Year\")\n",
    "plt_stack.set_ylabel(\"CO2 Emission\")"
   ]
  },
  {
   "cell_type": "code",
   "execution_count": 13,
   "metadata": {
    "scrolled": true
   },
   "outputs": [
    {
     "data": {
      "text/plain": [
       "source\n",
       "coal           0.999851\n",
       "natural gas    0.999912\n",
       "petroleum      0.972233\n",
       "dtype: float64"
      ]
     },
     "execution_count": 13,
     "metadata": {},
     "output_type": "execute_result"
    }
   ],
   "source": [
    "# Find the correlation between two dataset df_con(consumption dataset) and dftot(co2 emission data set)\n",
    "\n",
    "df_con.corrwith(dftot,axis=0)"
   ]
  },
  {
   "cell_type": "markdown",
   "metadata": {},
   "source": [
    "# Relationship between Coal consumption and CO2 emission by coal"
   ]
  },
  {
   "cell_type": "code",
   "execution_count": 14,
   "metadata": {},
   "outputs": [
    {
     "name": "stdout",
     "output_type": "stream",
     "text": [
      "Pearson Correlation Coefficient:  0.9998511781562017\n"
     ]
    }
   ],
   "source": [
    "# The Pearson correlation coefficient measures the linear relationship between two datasets.\n",
    "# Correlations of -1 or +1 imply an exact linear relationship. Positive correlations imply that as x increases, so does y\n",
    "\n",
    "pearson_coef, p_value = stats.pearsonr(df_con[\"coal\"], dftot[\"coal\"]) #define the columns to perform calculations on\n",
    "print(\"Pearson Correlation Coefficient: \", pearson_coef)"
   ]
  },
  {
   "cell_type": "code",
   "execution_count": 15,
   "metadata": {},
   "outputs": [
    {
     "data": {
      "image/png": "[encoded data removed]",
      "text/plain": [
       "<Figure size 432x288 with 1 Axes>"
      ]
     },
     "metadata": {
      "needs_background": "light"
     },
     "output_type": "display_data"
    }
   ],
   "source": [
    "# Linear regression model to find the relationship between coal consumption and Co2 emission by coal\n",
    "from sklearn.linear_model import LinearRegression\n",
    "from sklearn.model_selection import train_test_split\n",
    "\n",
    "xc=df_con[\"coal\"].values.reshape(-1,1)\n",
    "yc=dftot[\"coal\"].values.reshape(-1,1)\n",
    "\n",
    "xc_train, xc_test, yc_train, yc_test = train_test_split(xc, yc, test_size=0.4, random_state=1)\n",
    "reg=LinearRegression() # create a model\n",
    "reg.fit(xc_train, yc_train) # fit a model\n",
    "yc_pred=reg.predict(xc_test) # predict a model\n",
    "\n",
    "plt.scatter(xc,yc,label='Scatter Plot')\n",
    "plt.rcParams['figure.figsize'] = (12.0, 5.0)\n",
    "plt.plot(xc_test,yc_pred,color='red',linewidth=2,label='Regression Line')\n",
    "plt.xlabel('Consumption of Coal')\n",
    "plt.ylabel('CO2 emission by coal')\n",
    "plt.title(\"Coal conumption vs CO2 emission by coal\")\n",
    "plt.legend()\n",
    "plt.show()"
   ]
  },
  {
   "cell_type": "code",
   "execution_count": null,
   "metadata": {},
   "outputs": [],
   "source": [
    "# Cofficient of determination or r2\n",
    "r2_score=reg.score(xc,yc)\n",
    "print(r2_score)"
   ]
  },
  {
   "cell_type": "markdown",
   "metadata": {},
   "source": [
    "# Relationship between natural gas consumption and CO2 emission by natural gas"
   ]
  },
  {
   "cell_type": "code",
   "execution_count": null,
   "metadata": {},
   "outputs": [],
   "source": [
    "#The Pearson correlation coefficient\n",
    "pearson_coef, p_value = stats.pearsonr(df_con[\"natural gas\"], dftot[\"natural gas\"]) #define the columns to perform calculations on\n",
    "print(\"Pearson Correlation Coefficient: \", pearson_coef) "
   ]
  },
  {
   "cell_type": "code",
   "execution_count": null,
   "metadata": {},
   "outputs": [],
   "source": [
    "# Linear regression model to find the relationship between natural gas consumption and Co2 emission by natural gas\n",
    "from sklearn.linear_model import LinearRegression\n",
    "from sklearn.model_selection import train_test_split\n",
    "\n",
    "xng=df_con[\"natural gas\"].values.reshape(-1,1)\n",
    "yng=dftot[\"natural gas\"].values.reshape(-1,1)\n",
    "\n",
    "xng_train, xng_test, yng_train, yng_test = train_test_split(xng, yng, test_size=0.4, random_state=1)\n",
    "reg=LinearRegression() # create a model\n",
    "reg.fit(xng_train, yng_train) # fit a model\n",
    "yng_pred=reg.predict(xng_test) # predict a model\n",
    "\n",
    "plt.scatter(xng,yng,label='Scatter Plot')\n",
    "plt.rcParams['figure.figsize'] = (12.0, 5.0)\n",
    "plt.plot(xng_test,yng_pred,color='red',linewidth=2,label='Regression Line')\n",
    "plt.xlabel('Consumption of Natural gas')\n",
    "plt.ylabel('CO2 emission by natural gas')\n",
    "plt.title(\"Natural gas conumption vs CO2 emission by natural gas\")\n",
    "plt.legend()\n",
    "plt.show()\n"
   ]
  },
  {
   "cell_type": "code",
   "execution_count": null,
   "metadata": {},
   "outputs": [],
   "source": [
    "# Cofficient of determination or r2\n",
    "r2_score=reg.score(xng,yng)\n",
    "print(r2_score)"
   ]
  },
  {
   "cell_type": "markdown",
   "metadata": {},
   "source": [
    "# Relationship between Petroleum consumption and CO2 emission by petroleum"
   ]
  },
  {
   "cell_type": "code",
   "execution_count": null,
   "metadata": {},
   "outputs": [],
   "source": [
    "pearson_coef, p_value = stats.pearsonr(df_con[\"petroleum\"], dftot[\"petroleum\"]) #define the columns to perform calculations on\n",
    "print(\"Pearson Correlation Coefficient: \", pearson_coef, \"and a P-value of:\", p_value) "
   ]
  },
  {
   "cell_type": "code",
   "execution_count": null,
   "metadata": {},
   "outputs": [],
   "source": [
    "# Linear regression model to find the relationship between natural gas consumption and Co2 emission by natural gas\n",
    "from sklearn.linear_model import LinearRegression\n",
    "from sklearn.model_selection import train_test_split\n",
    "\n",
    "xp=df_con[\"petroleum\"].values.reshape(-1,1)\n",
    "yp=dftot[\"petroleum\"].values.reshape(-1,1)\n",
    "\n",
    "xp_train, xp_test, yp_train, yp_test = train_test_split(xp, yp, test_size=0.4, random_state=1)\n",
    "reg=LinearRegression() # create a model\n",
    "reg.fit(xp_train, yp_train) # fit a model\n",
    "yp_pred=reg.predict(xp_test) # predict a model\n",
    "\n",
    "plt.scatter(xp,yp,label='Scatter Plot')\n",
    "plt.rcParams['figure.figsize'] = (12.0, 5.0)\n",
    "plt.plot(xp_test,yp_pred,color='red',linewidth=2,label='Regression Line')\n",
    "plt.xlabel('Consumption of petroleum')\n",
    "plt.ylabel('CO2 emission by petroleum')\n",
    "plt.title(\"Petroleum conumption vs CO2 emission by petroleum\")\n",
    "plt.legend()\n",
    "plt.show()\n"
   ]
  },
  {
   "cell_type": "code",
   "execution_count": null,
   "metadata": {},
   "outputs": [],
   "source": [
    "# Cofficient of determination or r2\n",
    "# The coefficient of determination is a measure of the amount of variability in the data accounted for by the regression model\n",
    "#Therefore, 94% of the variability in the yield data is explained by the regression model, indicating a very good fit of the model. \n",
    "#It may appear that larger values of  indicate a better fitting regression model.\n",
    "r2_score=reg.score(xp,yp)\n",
    "print(r2_score)"
   ]
  },
  {
   "cell_type": "code",
   "execution_count": null,
   "metadata": {},
   "outputs": [],
   "source": []
  }
 ],
 "metadata": {
  "kernelspec": {
   "display_name": "Python 3",
   "language": "python",
   "name": "python3"
  },
  "language_info": {
   "codemirror_mode": {
    "name": "ipython",
    "version": 3
   },
   "file_extension": ".py",
   "mimetype": "text/x-python",
   "name": "python",
   "nbconvert_exporter": "python",
   "pygments_lexer": "ipython3",
   "version": "3.7.3"
  }
 },
 "nbformat": 4,
 "nbformat_minor": 2
}
