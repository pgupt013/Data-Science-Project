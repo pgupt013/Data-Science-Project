{
 "cells": [
  {
   "cell_type": "code",
   "execution_count": null,
   "metadata": {},
   "outputs": [],
   "source": [
    "### Please ignore the warning messages due to duplicate methods\n",
    "library(readxl)\n",
    "library(dplyr)\n",
    "library(lubridate)\n",
    "library(ggplot2)\n",
    "library(tseries)\n",
    "library(forecast)\n",
    "library(TTR)\n",
    "library(zoo)\n",
    "library(xts)"
   ]
  },
  {
   "cell_type": "code",
   "execution_count": null,
   "metadata": {},
   "outputs": [],
   "source": [
    "### Read the excel file\n",
    "airquality<-read_excel(\"C:\\\\Users\\\\poonam\\\\Downloads\\\\AirQualityUCI\\\\AirQualityUCI.xlsx\")\n",
    "#airquality\n",
    "### add the data to dataframe for manipulation\n",
    "a<-data.frame(airquality)\n",
    "#a\n",
    "### Selecled the few columns(date, time and co) from the data frame \n",
    "df_co<-select(a,Date,Time,CO.GT.)\n",
    "#df_co\n",
    "testdata <- df_co\n",
    "### manipulation of time columns( chose hour)\n",
    "testdata1 <- mutate(testdata, Time = hour(testdata$Time))\n",
    "### created a new column date2(combine the date and time column)\n",
    "testdata2 <- mutate(testdata1, date2 = update(testdata1$Date,hour = testdata1$Time))\n",
    "#testdata2\n",
    "### selected the date2 and co.GT column for further processing\n",
    "cleanedset1 <- select(testdata2, date2, CO.GT.)\n",
    "### replace the -200 values with the NA \n",
    "cleanedset1$CO.GT.[cleanedset1$CO.GT. == -200] <- NA\n",
    "### use the zoo package to fill the na values and maintain the irregular time series\n",
    "z <- zoo(select(cleanedset1,CO.GT.))\n",
    "x <- na.fill(z, \"extend\")\n",
    "### put the zoo series into data frame and gave the name to the column\n",
    "b <- data.frame(x)\n",
    "colnames(b) <- c(\"hourly averaged concentration CO\")\n",
    "### bind the two data frame\n",
    "cleanset2=cbind(cleanedset1,b)\n",
    "### selected the needed column\n",
    "cleanset3 = select(cleanset2,date2,'hourly averaged concentration CO')\n",
    "plot(cleanset3)"
   ]
  },
  {
   "cell_type": "code",
   "execution_count": null,
   "metadata": {},
   "outputs": [],
   "source": [
    "#summary(cleanset3)\n",
    "### change column(date with time) into index\n",
    "x3.index <- select(cleanset3,date2)\n",
    "x3.data <- select(cleanset3,'hourly averaged concentration CO')\n",
    "### time series data\n",
    "x4 <-zoo(x3.data,x3.index$date2)\n",
    "### basic commands to check the time series data\n",
    "str(x4)"
   ]
  },
  {
   "cell_type": "code",
   "execution_count": null,
   "metadata": {},
   "outputs": [],
   "source": [
    "start(x4)"
   ]
  },
  {
   "cell_type": "code",
   "execution_count": null,
   "metadata": {},
   "outputs": [],
   "source": [
    "end(x4)"
   ]
  },
  {
   "cell_type": "code",
   "execution_count": null,
   "metadata": {},
   "outputs": [],
   "source": [
    "tail(cycle(x4))"
   ]
  },
  {
   "cell_type": "code",
   "execution_count": null,
   "metadata": {},
   "outputs": [],
   "source": [
    "### plot the time series data\n",
    "plot(x4,main=\"original data(hourly CO concentration )\",xlab=\"Time\",ylab=\"CO.GT.\")"
   ]
  },
  {
   "cell_type": "code",
   "execution_count": null,
   "metadata": {},
   "outputs": [],
   "source": [
    "### Make the data stationary\n",
    "### log of data to stabilize non-constant variance\n",
    "plot(log(x4))"
   ]
  },
  {
   "cell_type": "code",
   "execution_count": null,
   "metadata": {},
   "outputs": [],
   "source": [
    "### Make the mean constant\n",
    "#diff(log(tsdata))\n",
    "plot(diff(log(x4)))"
   ]
  },
  {
   "cell_type": "code",
   "execution_count": null,
   "metadata": {},
   "outputs": [],
   "source": [
    "###Dickey-Fuller Tests to check  data stationarity\n",
    "adf_test<-adf.test(diff(log(x4))[,1],alternative='stationary')\n",
    "print(adf_test)\n"
   ]
  },
  {
   "cell_type": "code",
   "execution_count": null,
   "metadata": {},
   "outputs": [],
   "source": [
    "###  ARIMA Model\n",
    "### Auto correlation factor on non stationary data\n",
    "acf(x4)\n",
    "\n",
    "### Auto correlation factor on stationary data\n",
    "###ACF is a plot of total correlation between different lag functions.\n",
    "acf(diff(log(x4)))\n",
    "\n",
    "### Partial auto correlation factor on stationary data\n",
    "pacf(diff(log(x4)))\n",
    "\n",
    "### ARIMA model\n",
    "mymodel<-auto.arima(x4)\n",
    "#mymodel\n",
    "\n",
    "### to see possible combination of p,d,q\n",
    "auto.arima(x4,ic=\"aic\",trace=TRUE)\n",
    "\n",
    "### plot the model\n",
    "plot.ts(mymodel$residuals)\n",
    "acf(ts(mymodel$residuals),main='ACF Residual')\n",
    "pacf(ts(mymodel$residuals),main='ACF Residual')"
   ]
  },
  {
   "cell_type": "code",
   "execution_count": null,
   "metadata": {},
   "outputs": [],
   "source": [
    "### forcast the model \n",
    "myforecast<-forecast(mymodel,level=c(95),h=360)\n",
    "plot(myforecast,xlab=\"Time\",ylab=\"CO.GT.\")"
   ]
  },
  {
   "cell_type": "code",
   "execution_count": null,
   "metadata": {},
   "outputs": [],
   "source": [
    "### line plot of real values and predicted values\n",
    "predict_val=fitted(myforecast)\n",
    "original_val=x4\n",
    "plot(predict_val,col=\"red\",main=\"Real/Predicted values\",ylab=\"CO.GT.\")\n",
    "lines(x4,col=\"blue\")"
   ]
  },
  {
   "cell_type": "code",
   "execution_count": null,
   "metadata": {},
   "outputs": [],
   "source": [
    "############ Accuracy measures of model\n",
    "accuracy(myforecast)"
   ]
  },
  {
   "cell_type": "code",
   "execution_count": null,
   "metadata": {},
   "outputs": [],
   "source": [
    "####### Correlation between actual and forcast. \n",
    "res<-cor.test(predict_val,original_val,method=\"pearson\")\n",
    "res"
   ]
  }
 ],
 "metadata": {
  "kernelspec": {
   "display_name": "R",
   "language": "R",
   "name": "ir"
  },
  "language_info": {
   "codemirror_mode": "r",
   "file_extension": ".r",
   "mimetype": "text/x-r-source",
   "name": "R",
   "pygments_lexer": "r",
   "version": "3.6.1"
  }
 },
 "nbformat": 4,
 "nbformat_minor": 2
}
