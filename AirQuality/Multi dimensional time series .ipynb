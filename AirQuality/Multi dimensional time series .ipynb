{
 "cells": [
  {
   "cell_type": "code",
   "execution_count": 1,
   "metadata": {},
   "outputs": [
    {
     "name": "stderr",
     "output_type": "stream",
     "text": [
      "\n",
      "Attaching package: 'dplyr'\n",
      "\n",
      "The following objects are masked from 'package:stats':\n",
      "\n",
      "    filter, lag\n",
      "\n",
      "The following objects are masked from 'package:base':\n",
      "\n",
      "    intersect, setdiff, setequal, union\n",
      "\n",
      "\n",
      "Attaching package: 'lubridate'\n",
      "\n",
      "The following object is masked from 'package:base':\n",
      "\n",
      "    date\n",
      "\n",
      "Registered S3 method overwritten by 'xts':\n",
      "  method     from\n",
      "  as.zoo.xts zoo \n",
      "Registered S3 method overwritten by 'quantmod':\n",
      "  method            from\n",
      "  as.zoo.data.frame zoo \n",
      "Registered S3 methods overwritten by 'forecast':\n",
      "  method             from    \n",
      "  fitted.fracdiff    fracdiff\n",
      "  residuals.fracdiff fracdiff\n",
      "\n",
      "Attaching package: 'zoo'\n",
      "\n",
      "The following objects are masked from 'package:base':\n",
      "\n",
      "    as.Date, as.Date.numeric\n",
      "\n",
      "\n",
      "Attaching package: 'xts'\n",
      "\n",
      "The following objects are masked from 'package:dplyr':\n",
      "\n",
      "    first, last\n",
      "\n"
     ]
    }
   ],
   "source": [
    "### Please ignore the warning messages due to duplicate methods\n",
    "library(readxl)\n",
    "library(dplyr)\n",
    "library(lubridate)\n",
    "library(ggplot2)\n",
    "library(tseries)\n",
    "library(forecast)\n",
    "library(TTR)\n",
    "library(zoo)\n",
    "library(xts)"
   ]
  },
  {
   "cell_type": "code",
   "execution_count": 3,
   "metadata": {},
   "outputs": [
    {
     "data": {
      "text/html": [
       "<table>\n",
       "<thead><tr><th scope=col>Date</th><th scope=col>Time</th><th scope=col>CO(GT)</th><th scope=col>PT08.S1(CO)</th><th scope=col>NMHC(GT)</th><th scope=col>C6H6(GT)</th><th scope=col>PT08.S2(NMHC)</th><th scope=col>NOx(GT)</th><th scope=col>PT08.S3(NOx)</th><th scope=col>NO2(GT)</th><th scope=col>PT08.S4(NO2)</th><th scope=col>PT08.S5(O3)</th><th scope=col>T</th><th scope=col>RH</th><th scope=col>AH</th></tr></thead>\n",
       "<tbody>\n",
       "\t<tr><td>2004-03-10         </td><td>1899-12-31 18:00:00</td><td>2.6                </td><td>1360.00            </td><td>150                </td><td>11.881723          </td><td>1045.50            </td><td>166                </td><td>1056.25            </td><td>113                </td><td>1692.00            </td><td>1267.50            </td><td>13.600             </td><td>48.875             </td><td>0.7577538          </td></tr>\n",
       "\t<tr><td>2004-03-10         </td><td>1899-12-31 19:00:00</td><td>2.0                </td><td>1292.25            </td><td>112                </td><td> 9.397165          </td><td> 954.75            </td><td>103                </td><td>1173.75            </td><td> 92                </td><td>1558.75            </td><td> 972.25            </td><td>13.300             </td><td>47.700             </td><td>0.7254874          </td></tr>\n",
       "\t<tr><td>2004-03-10         </td><td>1899-12-31 20:00:00</td><td>2.2                </td><td>1402.00            </td><td> 88                </td><td> 8.997817          </td><td> 939.25            </td><td>131                </td><td>1140.00            </td><td>114                </td><td>1554.50            </td><td>1074.00            </td><td>11.900             </td><td>53.975             </td><td>0.7502391          </td></tr>\n",
       "\t<tr><td>2004-03-10         </td><td>1899-12-31 21:00:00</td><td>2.2                </td><td>1375.50            </td><td> 80                </td><td> 9.228796          </td><td> 948.25            </td><td>172                </td><td>1092.00            </td><td>122                </td><td>1583.75            </td><td>1203.25            </td><td>11.000             </td><td>60.000             </td><td>0.7867125          </td></tr>\n",
       "\t<tr><td>2004-03-10         </td><td>1899-12-31 22:00:00</td><td>1.6                </td><td>1272.25            </td><td> 51                </td><td> 6.518224          </td><td> 835.50            </td><td>131                </td><td>1205.00            </td><td>116                </td><td>1490.00            </td><td>1110.00            </td><td>11.150             </td><td>59.575             </td><td>0.7887942          </td></tr>\n",
       "\t<tr><td>2004-03-10         </td><td>1899-12-31 23:00:00</td><td>1.2                </td><td>1197.00            </td><td> 38                </td><td> 4.741012          </td><td> 750.25            </td><td> 89                </td><td>1336.50            </td><td> 96                </td><td>1393.00            </td><td> 949.25            </td><td>11.175             </td><td>59.175             </td><td>0.7847717          </td></tr>\n",
       "</tbody>\n",
       "</table>\n"
      ],
      "text/latex": [
       "\\begin{tabular}{r|lllllllllllllll}\n",
       " Date & Time & CO(GT) & PT08.S1(CO) & NMHC(GT) & C6H6(GT) & PT08.S2(NMHC) & NOx(GT) & PT08.S3(NOx) & NO2(GT) & PT08.S4(NO2) & PT08.S5(O3) & T & RH & AH\\\\\n",
       "\\hline\n",
       "\t 2004-03-10          & 1899-12-31 18:00:00 & 2.6                 & 1360.00             & 150                 & 11.881723           & 1045.50             & 166                 & 1056.25             & 113                 & 1692.00             & 1267.50             & 13.600              & 48.875              & 0.7577538          \\\\\n",
       "\t 2004-03-10          & 1899-12-31 19:00:00 & 2.0                 & 1292.25             & 112                 &  9.397165           &  954.75             & 103                 & 1173.75             &  92                 & 1558.75             &  972.25             & 13.300              & 47.700              & 0.7254874          \\\\\n",
       "\t 2004-03-10          & 1899-12-31 20:00:00 & 2.2                 & 1402.00             &  88                 &  8.997817           &  939.25             & 131                 & 1140.00             & 114                 & 1554.50             & 1074.00             & 11.900              & 53.975              & 0.7502391          \\\\\n",
       "\t 2004-03-10          & 1899-12-31 21:00:00 & 2.2                 & 1375.50             &  80                 &  9.228796           &  948.25             & 172                 & 1092.00             & 122                 & 1583.75             & 1203.25             & 11.000              & 60.000              & 0.7867125          \\\\\n",
       "\t 2004-03-10          & 1899-12-31 22:00:00 & 1.6                 & 1272.25             &  51                 &  6.518224           &  835.50             & 131                 & 1205.00             & 116                 & 1490.00             & 1110.00             & 11.150              & 59.575              & 0.7887942          \\\\\n",
       "\t 2004-03-10          & 1899-12-31 23:00:00 & 1.2                 & 1197.00             &  38                 &  4.741012           &  750.25             &  89                 & 1336.50             &  96                 & 1393.00             &  949.25             & 11.175              & 59.175              & 0.7847717          \\\\\n",
       "\\end{tabular}\n"
      ],
      "text/markdown": [
       "\n",
       "| Date | Time | CO(GT) | PT08.S1(CO) | NMHC(GT) | C6H6(GT) | PT08.S2(NMHC) | NOx(GT) | PT08.S3(NOx) | NO2(GT) | PT08.S4(NO2) | PT08.S5(O3) | T | RH | AH |\n",
       "|---|---|---|---|---|---|---|---|---|---|---|---|---|---|---|\n",
       "| 2004-03-10          | 1899-12-31 18:00:00 | 2.6                 | 1360.00             | 150                 | 11.881723           | 1045.50             | 166                 | 1056.25             | 113                 | 1692.00             | 1267.50             | 13.600              | 48.875              | 0.7577538           |\n",
       "| 2004-03-10          | 1899-12-31 19:00:00 | 2.0                 | 1292.25             | 112                 |  9.397165           |  954.75             | 103                 | 1173.75             |  92                 | 1558.75             |  972.25             | 13.300              | 47.700              | 0.7254874           |\n",
       "| 2004-03-10          | 1899-12-31 20:00:00 | 2.2                 | 1402.00             |  88                 |  8.997817           |  939.25             | 131                 | 1140.00             | 114                 | 1554.50             | 1074.00             | 11.900              | 53.975              | 0.7502391           |\n",
       "| 2004-03-10          | 1899-12-31 21:00:00 | 2.2                 | 1375.50             |  80                 |  9.228796           |  948.25             | 172                 | 1092.00             | 122                 | 1583.75             | 1203.25             | 11.000              | 60.000              | 0.7867125           |\n",
       "| 2004-03-10          | 1899-12-31 22:00:00 | 1.6                 | 1272.25             |  51                 |  6.518224           |  835.50             | 131                 | 1205.00             | 116                 | 1490.00             | 1110.00             | 11.150              | 59.575              | 0.7887942           |\n",
       "| 2004-03-10          | 1899-12-31 23:00:00 | 1.2                 | 1197.00             |  38                 |  4.741012           |  750.25             |  89                 | 1336.50             |  96                 | 1393.00             |  949.25             | 11.175              | 59.175              | 0.7847717           |\n",
       "\n"
      ],
      "text/plain": [
       "  Date       Time                CO(GT) PT08.S1(CO) NMHC(GT) C6H6(GT) \n",
       "1 2004-03-10 1899-12-31 18:00:00 2.6    1360.00     150      11.881723\n",
       "2 2004-03-10 1899-12-31 19:00:00 2.0    1292.25     112       9.397165\n",
       "3 2004-03-10 1899-12-31 20:00:00 2.2    1402.00      88       8.997817\n",
       "4 2004-03-10 1899-12-31 21:00:00 2.2    1375.50      80       9.228796\n",
       "5 2004-03-10 1899-12-31 22:00:00 1.6    1272.25      51       6.518224\n",
       "6 2004-03-10 1899-12-31 23:00:00 1.2    1197.00      38       4.741012\n",
       "  PT08.S2(NMHC) NOx(GT) PT08.S3(NOx) NO2(GT) PT08.S4(NO2) PT08.S5(O3) T     \n",
       "1 1045.50       166     1056.25      113     1692.00      1267.50     13.600\n",
       "2  954.75       103     1173.75       92     1558.75       972.25     13.300\n",
       "3  939.25       131     1140.00      114     1554.50      1074.00     11.900\n",
       "4  948.25       172     1092.00      122     1583.75      1203.25     11.000\n",
       "5  835.50       131     1205.00      116     1490.00      1110.00     11.150\n",
       "6  750.25        89     1336.50       96     1393.00       949.25     11.175\n",
       "  RH     AH       \n",
       "1 48.875 0.7577538\n",
       "2 47.700 0.7254874\n",
       "3 53.975 0.7502391\n",
       "4 60.000 0.7867125\n",
       "5 59.575 0.7887942\n",
       "6 59.175 0.7847717"
      ]
     },
     "metadata": {},
     "output_type": "display_data"
    }
   ],
   "source": [
    "airquality<-read_excel(\"C:\\\\Users\\\\poonam\\\\Downloads\\\\AirQualityUCI\\\\AirQualityUCI.xlsx\")\n",
    "head(airquality)"
   ]
  },
  {
   "cell_type": "code",
   "execution_count": 4,
   "metadata": {},
   "outputs": [],
   "source": [
    "### add the data to dataframe for manipulation\n",
    "a<-data.frame(airquality)"
   ]
  },
  {
   "cell_type": "code",
   "execution_count": 5,
   "metadata": {},
   "outputs": [],
   "source": [
    "### Selecled the few columns(date, time and co) from the data frame \n",
    "df_co<-select(a,Date,Time,CO.GT.,NMHC.GT., NOx.GT.,NO2.GT.,'T',AH)\n",
    "testdata <- df_co"
   ]
  },
  {
   "cell_type": "code",
   "execution_count": 9,
   "metadata": {},
   "outputs": [
    {
     "data": {
      "text/html": [
       "<table>\n",
       "<thead><tr><th scope=col>Date</th><th scope=col>Time</th><th scope=col>CO.GT.</th><th scope=col>NMHC.GT.</th><th scope=col>NOx.GT.</th><th scope=col>NO2.GT.</th><th scope=col>T</th><th scope=col>AH</th><th scope=col>date2</th></tr></thead>\n",
       "<tbody>\n",
       "\t<tr><td>2004-03-10         </td><td>18                 </td><td>2.6                </td><td>150                </td><td>166                </td><td>113                </td><td>13.600             </td><td>0.7577538          </td><td>2004-03-10 18:00:00</td></tr>\n",
       "\t<tr><td>2004-03-10         </td><td>19                 </td><td>2.0                </td><td>112                </td><td>103                </td><td> 92                </td><td>13.300             </td><td>0.7254874          </td><td>2004-03-10 19:00:00</td></tr>\n",
       "\t<tr><td>2004-03-10         </td><td>20                 </td><td>2.2                </td><td> 88                </td><td>131                </td><td>114                </td><td>11.900             </td><td>0.7502391          </td><td>2004-03-10 20:00:00</td></tr>\n",
       "\t<tr><td>2004-03-10         </td><td>21                 </td><td>2.2                </td><td> 80                </td><td>172                </td><td>122                </td><td>11.000             </td><td>0.7867125          </td><td>2004-03-10 21:00:00</td></tr>\n",
       "\t<tr><td>2004-03-10         </td><td>22                 </td><td>1.6                </td><td> 51                </td><td>131                </td><td>116                </td><td>11.150             </td><td>0.7887942          </td><td>2004-03-10 22:00:00</td></tr>\n",
       "\t<tr><td>2004-03-10         </td><td>23                 </td><td>1.2                </td><td> 38                </td><td> 89                </td><td> 96                </td><td>11.175             </td><td>0.7847717          </td><td>2004-03-10 23:00:00</td></tr>\n",
       "</tbody>\n",
       "</table>\n"
      ],
      "text/latex": [
       "\\begin{tabular}{r|lllllllll}\n",
       " Date & Time & CO.GT. & NMHC.GT. & NOx.GT. & NO2.GT. & T & AH & date2\\\\\n",
       "\\hline\n",
       "\t 2004-03-10          & 18                  & 2.6                 & 150                 & 166                 & 113                 & 13.600              & 0.7577538           & 2004-03-10 18:00:00\\\\\n",
       "\t 2004-03-10          & 19                  & 2.0                 & 112                 & 103                 &  92                 & 13.300              & 0.7254874           & 2004-03-10 19:00:00\\\\\n",
       "\t 2004-03-10          & 20                  & 2.2                 &  88                 & 131                 & 114                 & 11.900              & 0.7502391           & 2004-03-10 20:00:00\\\\\n",
       "\t 2004-03-10          & 21                  & 2.2                 &  80                 & 172                 & 122                 & 11.000              & 0.7867125           & 2004-03-10 21:00:00\\\\\n",
       "\t 2004-03-10          & 22                  & 1.6                 &  51                 & 131                 & 116                 & 11.150              & 0.7887942           & 2004-03-10 22:00:00\\\\\n",
       "\t 2004-03-10          & 23                  & 1.2                 &  38                 &  89                 &  96                 & 11.175              & 0.7847717           & 2004-03-10 23:00:00\\\\\n",
       "\\end{tabular}\n"
      ],
      "text/markdown": [
       "\n",
       "| Date | Time | CO.GT. | NMHC.GT. | NOx.GT. | NO2.GT. | T | AH | date2 |\n",
       "|---|---|---|---|---|---|---|---|---|\n",
       "| 2004-03-10          | 18                  | 2.6                 | 150                 | 166                 | 113                 | 13.600              | 0.7577538           | 2004-03-10 18:00:00 |\n",
       "| 2004-03-10          | 19                  | 2.0                 | 112                 | 103                 |  92                 | 13.300              | 0.7254874           | 2004-03-10 19:00:00 |\n",
       "| 2004-03-10          | 20                  | 2.2                 |  88                 | 131                 | 114                 | 11.900              | 0.7502391           | 2004-03-10 20:00:00 |\n",
       "| 2004-03-10          | 21                  | 2.2                 |  80                 | 172                 | 122                 | 11.000              | 0.7867125           | 2004-03-10 21:00:00 |\n",
       "| 2004-03-10          | 22                  | 1.6                 |  51                 | 131                 | 116                 | 11.150              | 0.7887942           | 2004-03-10 22:00:00 |\n",
       "| 2004-03-10          | 23                  | 1.2                 |  38                 |  89                 |  96                 | 11.175              | 0.7847717           | 2004-03-10 23:00:00 |\n",
       "\n"
      ],
      "text/plain": [
       "  Date       Time CO.GT. NMHC.GT. NOx.GT. NO2.GT. T      AH       \n",
       "1 2004-03-10 18   2.6    150      166     113     13.600 0.7577538\n",
       "2 2004-03-10 19   2.0    112      103      92     13.300 0.7254874\n",
       "3 2004-03-10 20   2.2     88      131     114     11.900 0.7502391\n",
       "4 2004-03-10 21   2.2     80      172     122     11.000 0.7867125\n",
       "5 2004-03-10 22   1.6     51      131     116     11.150 0.7887942\n",
       "6 2004-03-10 23   1.2     38       89      96     11.175 0.7847717\n",
       "  date2              \n",
       "1 2004-03-10 18:00:00\n",
       "2 2004-03-10 19:00:00\n",
       "3 2004-03-10 20:00:00\n",
       "4 2004-03-10 21:00:00\n",
       "5 2004-03-10 22:00:00\n",
       "6 2004-03-10 23:00:00"
      ]
     },
     "metadata": {},
     "output_type": "display_data"
    }
   ],
   "source": [
    "### manipulation of time columns( chose hour)\n",
    "testdata1 <- mutate(testdata, Time = hour(testdata$Time))\n",
    "testdata2 <- mutate(testdata1, date2 = update(testdata1$Date,hour = testdata1$Time))\n",
    "head(testdata2)"
   ]
  },
  {
   "cell_type": "code",
   "execution_count": 11,
   "metadata": {},
   "outputs": [
    {
     "data": {
      "text/html": [
       "<table>\n",
       "<thead><tr><th scope=col>date2</th><th scope=col>CO.GT.</th><th scope=col>NMHC.GT.</th><th scope=col>NOx.GT.</th><th scope=col>NO2.GT.</th><th scope=col>T</th><th scope=col>AH</th></tr></thead>\n",
       "<tbody>\n",
       "\t<tr><td>2004-03-10 18:00:00</td><td>2.6                </td><td>150                </td><td>166                </td><td>113                </td><td>13.600             </td><td>0.7577538          </td></tr>\n",
       "\t<tr><td>2004-03-10 19:00:00</td><td>2.0                </td><td>112                </td><td>103                </td><td> 92                </td><td>13.300             </td><td>0.7254874          </td></tr>\n",
       "\t<tr><td>2004-03-10 20:00:00</td><td>2.2                </td><td> 88                </td><td>131                </td><td>114                </td><td>11.900             </td><td>0.7502391          </td></tr>\n",
       "\t<tr><td>2004-03-10 21:00:00</td><td>2.2                </td><td> 80                </td><td>172                </td><td>122                </td><td>11.000             </td><td>0.7867125          </td></tr>\n",
       "\t<tr><td>2004-03-10 22:00:00</td><td>1.6                </td><td> 51                </td><td>131                </td><td>116                </td><td>11.150             </td><td>0.7887942          </td></tr>\n",
       "\t<tr><td>2004-03-10 23:00:00</td><td>1.2                </td><td> 38                </td><td> 89                </td><td> 96                </td><td>11.175             </td><td>0.7847717          </td></tr>\n",
       "</tbody>\n",
       "</table>\n"
      ],
      "text/latex": [
       "\\begin{tabular}{r|lllllll}\n",
       " date2 & CO.GT. & NMHC.GT. & NOx.GT. & NO2.GT. & T & AH\\\\\n",
       "\\hline\n",
       "\t 2004-03-10 18:00:00 & 2.6                 & 150                 & 166                 & 113                 & 13.600              & 0.7577538          \\\\\n",
       "\t 2004-03-10 19:00:00 & 2.0                 & 112                 & 103                 &  92                 & 13.300              & 0.7254874          \\\\\n",
       "\t 2004-03-10 20:00:00 & 2.2                 &  88                 & 131                 & 114                 & 11.900              & 0.7502391          \\\\\n",
       "\t 2004-03-10 21:00:00 & 2.2                 &  80                 & 172                 & 122                 & 11.000              & 0.7867125          \\\\\n",
       "\t 2004-03-10 22:00:00 & 1.6                 &  51                 & 131                 & 116                 & 11.150              & 0.7887942          \\\\\n",
       "\t 2004-03-10 23:00:00 & 1.2                 &  38                 &  89                 &  96                 & 11.175              & 0.7847717          \\\\\n",
       "\\end{tabular}\n"
      ],
      "text/markdown": [
       "\n",
       "| date2 | CO.GT. | NMHC.GT. | NOx.GT. | NO2.GT. | T | AH |\n",
       "|---|---|---|---|---|---|---|\n",
       "| 2004-03-10 18:00:00 | 2.6                 | 150                 | 166                 | 113                 | 13.600              | 0.7577538           |\n",
       "| 2004-03-10 19:00:00 | 2.0                 | 112                 | 103                 |  92                 | 13.300              | 0.7254874           |\n",
       "| 2004-03-10 20:00:00 | 2.2                 |  88                 | 131                 | 114                 | 11.900              | 0.7502391           |\n",
       "| 2004-03-10 21:00:00 | 2.2                 |  80                 | 172                 | 122                 | 11.000              | 0.7867125           |\n",
       "| 2004-03-10 22:00:00 | 1.6                 |  51                 | 131                 | 116                 | 11.150              | 0.7887942           |\n",
       "| 2004-03-10 23:00:00 | 1.2                 |  38                 |  89                 |  96                 | 11.175              | 0.7847717           |\n",
       "\n"
      ],
      "text/plain": [
       "  date2               CO.GT. NMHC.GT. NOx.GT. NO2.GT. T      AH       \n",
       "1 2004-03-10 18:00:00 2.6    150      166     113     13.600 0.7577538\n",
       "2 2004-03-10 19:00:00 2.0    112      103      92     13.300 0.7254874\n",
       "3 2004-03-10 20:00:00 2.2     88      131     114     11.900 0.7502391\n",
       "4 2004-03-10 21:00:00 2.2     80      172     122     11.000 0.7867125\n",
       "5 2004-03-10 22:00:00 1.6     51      131     116     11.150 0.7887942\n",
       "6 2004-03-10 23:00:00 1.2     38       89      96     11.175 0.7847717"
      ]
     },
     "metadata": {},
     "output_type": "display_data"
    }
   ],
   "source": [
    "### replace the missing value with NA\n",
    "cleanedset1 <- select(testdata2, date2, CO.GT.,NMHC.GT., NOx.GT.,NO2.GT.,'T',AH)\n",
    "cleanedset1[cleanedset1 == -200] <- NA\n",
    "head(cleanedset1)"
   ]
  },
  {
   "cell_type": "code",
   "execution_count": 12,
   "metadata": {},
   "outputs": [],
   "source": [
    "### replace the missing value with zoo fill extent \n",
    "j <- data.frame (cleanedset1$date2 ,na.fill(zoo(select(cleanedset1,CO.GT.)), \"extend\"), na.fill(zoo(select(cleanedset1,NMHC.GT.)), \"extend\"), na.fill(zoo(select(cleanedset1,NOx.GT.)), \"extend\"),na.fill(zoo(select(cleanedset1,NO2.GT.)), \"extend\"),na.fill(zoo(select(cleanedset1,'T')), \"extend\"),na.fill(zoo(select(cleanedset1,AH)), \"extend\") )"
   ]
  },
  {
   "cell_type": "code",
   "execution_count": 13,
   "metadata": {},
   "outputs": [
    {
     "data": {
      "text/plain": [
       "       CO              NOx              NO2              T        \n",
       " Min.   : 0.100   Min.   :   2.0   Min.   :  2.0   Min.   :-1.90  \n",
       " 1st Qu.: 1.100   1st Qu.:  96.0   1st Qu.: 76.0   1st Qu.:11.72  \n",
       " Median : 1.800   Median : 180.0   Median :104.8   Median :17.57  \n",
       " Mean   : 2.131   Mean   : 241.9   Mean   :109.6   Mean   :18.23  \n",
       " 3rd Qu.: 2.900   3rd Qu.: 326.0   3rd Qu.:136.4   3rd Qu.:24.27  \n",
       " Max.   :11.900   Max.   :1479.0   Max.   :339.7   Max.   :44.60  \n",
       "       AH        \n",
       " Min.   :0.1847  \n",
       " 1st Qu.:0.7323  \n",
       " Median :0.9895  \n",
       " Mean   :1.0196  \n",
       " 3rd Qu.:1.3067  \n",
       " Max.   :2.2310  "
      ]
     },
     "metadata": {},
     "output_type": "display_data"
    }
   ],
   "source": [
    "### change the column name\n",
    "names(j)[1] <- \"Date\"\n",
    "names(j)[2] <- \"CO\"\n",
    "names(j)[3] <- \"NMHC\"\n",
    "names(j)[4] <- \"NOx\"\n",
    "names(j)[5] <- \"NO2\"\n",
    "\n",
    "k <-select(j,'CO','NOx','NO2','T','AH')\n",
    "\n",
    "summary(k)"
   ]
  },
  {
   "cell_type": "code",
   "execution_count": 14,
   "metadata": {},
   "outputs": [],
   "source": [
    "### convert the dataset to time series \n",
    "series<-ts(k,start=c(2014),frequency = 8760)"
   ]
  },
  {
   "cell_type": "code",
   "execution_count": 16,
   "metadata": {},
   "outputs": [
    {
     "data": {
      "text/html": [
       "<ol class=list-inline>\n",
       "\t<li>2014</li>\n",
       "\t<li>1</li>\n",
       "</ol>\n"
      ],
      "text/latex": [
       "\\begin{enumerate*}\n",
       "\\item 2014\n",
       "\\item 1\n",
       "\\end{enumerate*}\n"
      ],
      "text/markdown": [
       "1. 2014\n",
       "2. 1\n",
       "\n",
       "\n"
      ],
      "text/plain": [
       "[1] 2014    1"
      ]
     },
     "metadata": {},
     "output_type": "display_data"
    },
    {
     "data": {
      "text/html": [
       "<ol class=list-inline>\n",
       "\t<li>2015</li>\n",
       "\t<li>597</li>\n",
       "</ol>\n"
      ],
      "text/latex": [
       "\\begin{enumerate*}\n",
       "\\item 2015\n",
       "\\item 597\n",
       "\\end{enumerate*}\n"
      ],
      "text/markdown": [
       "1. 2015\n",
       "2. 597\n",
       "\n",
       "\n"
      ],
      "text/plain": [
       "[1] 2015  597"
      ]
     },
     "metadata": {},
     "output_type": "display_data"
    }
   ],
   "source": [
    "### basic time series commands\n",
    "start(series)\n",
    "end(series)"
   ]
  },
  {
   "cell_type": "code",
   "execution_count": 17,
   "metadata": {},
   "outputs": [
    {
     "data": {
      "image/png": "[encoded data removed]",
      "text/plain": [
       "plot without title"
      ]
     },
     "metadata": {},
     "output_type": "display_data"
    }
   ],
   "source": [
    "### plot the time series\n",
    "plot(series)"
   ]
  },
  {
   "cell_type": "code",
   "execution_count": 18,
   "metadata": {},
   "outputs": [
    {
     "data": {
      "image/png": "[encoded data removed]",
      "text/plain": [
       "plot without title"
      ]
     },
     "metadata": {},
     "output_type": "display_data"
    }
   ],
   "source": [
    "plot(series,plot.type=\"single\",col=1:5)\n",
    "legend(\"topleft\",legend=colnames(series),lty = 1,col = 1:5,cex = .9)"
   ]
  },
  {
   "cell_type": "code",
   "execution_count": 19,
   "metadata": {},
   "outputs": [
    {
     "data": {
      "text/html": [
       "1"
      ],
      "text/latex": [
       "1"
      ],
      "text/markdown": [
       "1"
      ],
      "text/plain": [
       "[1] 1"
      ]
     },
     "metadata": {},
     "output_type": "display_data"
    },
    {
     "data": {
      "image/png": "[encoded data removed]",
      "text/plain": [
       "plot without title"
      ]
     },
     "metadata": {},
     "output_type": "display_data"
    }
   ],
   "source": [
    "### check the number of differences and make the data stationary and plot \n",
    "numdiffs<-ndiffs(series)\n",
    "numdiffs\n",
    "aq_diffed <- diff(series, differences = numdiffs)\n",
    "\n",
    "plot(aq_diffed,plot.type = \"single\", col=1:5)\n",
    "legend(\"bottomleft\",legend=colnames(aq_diffed),lty = 1,col = 1:5,cex = .9)\n"
   ]
  },
  {
   "cell_type": "code",
   "execution_count": 20,
   "metadata": {},
   "outputs": [
    {
     "name": "stderr",
     "output_type": "stream",
     "text": [
      "Loading required package: vars\n",
      "Loading required package: MASS\n",
      "\n",
      "Attaching package: 'MASS'\n",
      "\n",
      "The following object is masked from 'package:dplyr':\n",
      "\n",
      "    select\n",
      "\n",
      "Loading required package: strucchange\n",
      "Loading required package: sandwich\n",
      "Loading required package: urca\n",
      "Loading required package: lmtest\n"
     ]
    },
    {
     "data": {
      "text/plain": [
       "\n",
       "VAR Estimation Results:\n",
       "======================= \n",
       "\n",
       "Estimated coefficients for equation CO: \n",
       "======================================= \n",
       "Call:\n",
       "CO = CO.l1 + NOx.l1 + NO2.l1 + T.l1 + AH.l1 + CO.l2 + NOx.l2 + NO2.l2 + T.l2 + AH.l2 + const \n",
       "\n",
       "        CO.l1        NOx.l1        NO2.l1          T.l1         AH.l1 \n",
       " 1.098510e-01  1.016529e-03  3.087380e-03 -3.766528e-02 -1.987292e-01 \n",
       "        CO.l2        NOx.l2        NO2.l2          T.l2         AH.l2 \n",
       "-2.925471e-01  4.655871e-04  3.343114e-03  3.768547e-02 -3.766024e-01 \n",
       "        const \n",
       "-7.341109e-05 \n",
       "\n",
       "\n",
       "Estimated coefficients for equation NOx: \n",
       "======================================== \n",
       "Call:\n",
       "NOx = CO.l1 + NOx.l1 + NO2.l1 + T.l1 + AH.l1 + CO.l2 + NOx.l2 + NO2.l2 + T.l2 + AH.l2 + const \n",
       "\n",
       "       CO.l1       NOx.l1       NO2.l1         T.l1        AH.l1        CO.l2 \n",
       " 11.15529740   0.11517501   0.19814804  -4.99530978 -46.90182438 -12.56494678 \n",
       "      NOx.l2       NO2.l2         T.l2        AH.l2        const \n",
       " -0.02590791   0.17428151   1.99308011 -44.61684341   0.01376281 \n",
       "\n",
       "\n",
       "Estimated coefficients for equation NO2: \n",
       "======================================== \n",
       "Call:\n",
       "NO2 = CO.l1 + NOx.l1 + NO2.l1 + T.l1 + AH.l1 + CO.l2 + NOx.l2 + NO2.l2 + T.l2 + AH.l2 + const \n",
       "\n",
       "       CO.l1       NOx.l1       NO2.l1         T.l1        AH.l1        CO.l2 \n",
       " 2.766787488  0.005560795  0.172558740 -0.079868152 -4.154082241 -1.489176018 \n",
       "      NOx.l2       NO2.l2         T.l2        AH.l2        const \n",
       " 0.013033936 -0.036142064  0.409651659 -8.354921526  0.003834836 \n",
       "\n",
       "\n",
       "Estimated coefficients for equation T: \n",
       "====================================== \n",
       "Call:\n",
       "T = CO.l1 + NOx.l1 + NO2.l1 + T.l1 + AH.l1 + CO.l2 + NOx.l2 + NO2.l2 + T.l2 + AH.l2 + const \n",
       "\n",
       "        CO.l1        NOx.l1        NO2.l1          T.l1         AH.l1 \n",
       "-0.1467909154  0.0009849488  0.0067409134  0.4853023498  0.8740413719 \n",
       "        CO.l2        NOx.l2        NO2.l2          T.l2         AH.l2 \n",
       " 0.0301385837  0.0010008590  0.0014879810  0.1148798604  0.7597084103 \n",
       "        const \n",
       " 0.0007801192 \n",
       "\n",
       "\n",
       "Estimated coefficients for equation AH: \n",
       "======================================= \n",
       "Call:\n",
       "AH = CO.l1 + NOx.l1 + NO2.l1 + T.l1 + AH.l1 + CO.l2 + NOx.l2 + NO2.l2 + T.l2 + AH.l2 + const \n",
       "\n",
       "        CO.l1        NOx.l1        NO2.l1          T.l1         AH.l1 \n",
       " 3.447030e-03 -2.054984e-05  5.857170e-05 -4.310328e-03  2.368836e-01 \n",
       "        CO.l2        NOx.l2        NO2.l2          T.l2         AH.l2 \n",
       " 5.804960e-04 -1.515855e-06  6.772754e-05  7.895856e-05 -1.018180e-01 \n",
       "        const \n",
       "-1.611718e-05 \n",
       "\n"
      ]
     },
     "metadata": {},
     "output_type": "display_data"
    },
    {
     "data": {
      "text/plain": [
       "\n",
       "VAR Estimation Results:\n",
       "========================= \n",
       "Endogenous variables: CO, NOx, NO2, T, AH \n",
       "Deterministic variables: const \n",
       "Sample size: 9354 \n",
       "Log Likelihood: -94603.021 \n",
       "Roots of the characteristic polynomial:\n",
       "0.6516 0.4832 0.4832 0.3246 0.3246 0.2513 0.2513 0.2312 0.2312 0.198\n",
       "Call:\n",
       "VAR(y = aq_diffed, lag.max = 2)\n",
       "\n",
       "\n",
       "Estimation results for equation CO: \n",
       "=================================== \n",
       "CO = CO.l1 + NOx.l1 + NO2.l1 + T.l1 + AH.l1 + CO.l2 + NOx.l2 + NO2.l2 + T.l2 + AH.l2 + const \n",
       "\n",
       "         Estimate Std. Error t value Pr(>|t|)    \n",
       "CO.l1   1.099e-01  1.707e-02   6.437 1.28e-10 ***\n",
       "NOx.l1  1.017e-03  1.745e-04   5.826 5.85e-09 ***\n",
       "NO2.l1  3.087e-03  6.046e-04   5.106 3.35e-07 ***\n",
       "T.l1   -3.767e-02  6.502e-03  -5.793 7.13e-09 ***\n",
       "AH.l1  -1.987e-01  1.619e-01  -1.227  0.21979    \n",
       "CO.l2  -2.925e-01  1.702e-02 -17.184  < 2e-16 ***\n",
       "NOx.l2  4.656e-04  1.742e-04   2.673  0.00753 ** \n",
       "NO2.l2  3.343e-03  6.039e-04   5.536 3.17e-08 ***\n",
       "T.l2    3.769e-02  6.500e-03   5.798 6.95e-09 ***\n",
       "AH.l2  -3.766e-01  1.617e-01  -2.329  0.01990 *  \n",
       "const  -7.341e-05  7.262e-03  -0.010  0.99193    \n",
       "---\n",
       "Signif. codes:  0 '***' 0.001 '**' 0.01 '*' 0.05 '.' 0.1 ' ' 1\n",
       "\n",
       "\n",
       "Residual standard error: 0.7023 on 9343 degrees of freedom\n",
       "Multiple R-Squared: 0.1089,\tAdjusted R-squared: 0.1079 \n",
       "F-statistic: 114.2 on 10 and 9343 DF,  p-value: < 2.2e-16 \n",
       "\n",
       "\n",
       "Estimation results for equation NOx: \n",
       "==================================== \n",
       "NOx = CO.l1 + NOx.l1 + NO2.l1 + T.l1 + AH.l1 + CO.l2 + NOx.l2 + NO2.l2 + T.l2 + AH.l2 + const \n",
       "\n",
       "        Estimate Std. Error t value Pr(>|t|)    \n",
       "CO.l1   11.15530    1.98538   5.619 1.98e-08 ***\n",
       "NOx.l1   0.11518    0.02030   5.675 1.43e-08 ***\n",
       "NO2.l1   0.19815    0.07033   2.817  0.00485 ** \n",
       "T.l1    -4.99531    0.75632  -6.605 4.20e-11 ***\n",
       "AH.l1  -46.90182   18.83853  -2.490  0.01280 *  \n",
       "CO.l2  -12.56495    1.98046  -6.344 2.34e-10 ***\n",
       "NOx.l2  -0.02591    0.02026  -1.279  0.20103    \n",
       "NO2.l2   0.17428    0.07025   2.481  0.01312 *  \n",
       "T.l2     1.99308    0.75616   2.636  0.00841 ** \n",
       "AH.l2  -44.61684   18.81375  -2.372  0.01774 *  \n",
       "const    0.01376    0.84474   0.016  0.98700    \n",
       "---\n",
       "Signif. codes:  0 '***' 0.001 '**' 0.01 '*' 0.05 '.' 0.1 ' ' 1\n",
       "\n",
       "\n",
       "Residual standard error: 81.7 on 9343 degrees of freedom\n",
       "Multiple R-Squared: 0.06462,\tAdjusted R-squared: 0.06362 \n",
       "F-statistic: 64.55 on 10 and 9343 DF,  p-value: < 2.2e-16 \n",
       "\n",
       "\n",
       "Estimation results for equation NO2: \n",
       "==================================== \n",
       "NO2 = CO.l1 + NOx.l1 + NO2.l1 + T.l1 + AH.l1 + CO.l2 + NOx.l2 + NO2.l2 + T.l2 + AH.l2 + const \n",
       "\n",
       "        Estimate Std. Error t value Pr(>|t|)    \n",
       "CO.l1   2.766787   0.452502   6.114 1.01e-09 ***\n",
       "NOx.l1  0.005561   0.004626   1.202 0.229344    \n",
       "NO2.l1  0.172559   0.016030  10.765  < 2e-16 ***\n",
       "T.l1   -0.079868   0.172379  -0.463 0.643140    \n",
       "AH.l1  -4.154082   4.293631  -0.967 0.333320    \n",
       "CO.l2  -1.489176   0.451381  -3.299 0.000973 ***\n",
       "NOx.l2  0.013034   0.004618   2.823 0.004774 ** \n",
       "NO2.l2 -0.036142   0.016011  -2.257 0.024007 *  \n",
       "T.l2    0.409652   0.172343   2.377 0.017476 *  \n",
       "AH.l2  -8.354922   4.287983  -1.948 0.051391 .  \n",
       "const   0.003835   0.192531   0.020 0.984109    \n",
       "---\n",
       "Signif. codes:  0 '***' 0.001 '**' 0.01 '*' 0.05 '.' 0.1 ' ' 1\n",
       "\n",
       "\n",
       "Residual standard error: 18.62 on 9343 degrees of freedom\n",
       "Multiple R-Squared: 0.07514,\tAdjusted R-squared: 0.07415 \n",
       "F-statistic:  75.9 on 10 and 9343 DF,  p-value: < 2.2e-16 \n",
       "\n",
       "\n",
       "Estimation results for equation T: \n",
       "================================== \n",
       "T = CO.l1 + NOx.l1 + NO2.l1 + T.l1 + AH.l1 + CO.l2 + NOx.l2 + NO2.l2 + T.l2 + AH.l2 + const \n",
       "\n",
       "         Estimate Std. Error t value Pr(>|t|)    \n",
       "CO.l1  -0.1467909  0.0275722  -5.324 1.04e-07 ***\n",
       "NOx.l1  0.0009849  0.0002819   3.494 0.000477 ***\n",
       "NO2.l1  0.0067409  0.0009768   6.901 5.49e-12 ***\n",
       "T.l1    0.4853023  0.0105035  46.204  < 2e-16 ***\n",
       "AH.l1   0.8740414  0.2616228   3.341 0.000839 ***\n",
       "CO.l2   0.0301386  0.0275039   1.096 0.273197    \n",
       "NOx.l2  0.0010009  0.0002814   3.557 0.000377 ***\n",
       "NO2.l2  0.0014880  0.0009756   1.525 0.127233    \n",
       "T.l2    0.1148799  0.0105013  10.940  < 2e-16 ***\n",
       "AH.l2   0.7597084  0.2612787   2.908 0.003650 ** \n",
       "const   0.0007801  0.0117314   0.066 0.946983    \n",
       "---\n",
       "Signif. codes:  0 '***' 0.001 '**' 0.01 '*' 0.05 '.' 0.1 ' ' 1\n",
       "\n",
       "\n",
       "Residual standard error: 1.135 on 9343 degrees of freedom\n",
       "Multiple R-Squared: 0.3309,\tAdjusted R-squared: 0.3301 \n",
       "F-statistic:   462 on 10 and 9343 DF,  p-value: < 2.2e-16 \n",
       "\n",
       "\n",
       "Estimation results for equation AH: \n",
       "=================================== \n",
       "AH = CO.l1 + NOx.l1 + NO2.l1 + T.l1 + AH.l1 + CO.l2 + NOx.l2 + NO2.l2 + T.l2 + AH.l2 + const \n",
       "\n",
       "         Estimate Std. Error t value Pr(>|t|)    \n",
       "CO.l1   3.447e-03  1.116e-03   3.089  0.00201 ** \n",
       "NOx.l1 -2.055e-05  1.141e-05  -1.802  0.07163 .  \n",
       "NO2.l1  5.857e-05  3.953e-05   1.482  0.13843    \n",
       "T.l1   -4.310e-03  4.251e-04 -10.141  < 2e-16 ***\n",
       "AH.l1   2.369e-01  1.059e-02  22.375  < 2e-16 ***\n",
       "CO.l2   5.805e-04  1.113e-03   0.522  0.60199    \n",
       "NOx.l2 -1.516e-06  1.139e-05  -0.133  0.89410    \n",
       "NO2.l2  6.773e-05  3.948e-05   1.716  0.08628 .  \n",
       "T.l2    7.896e-05  4.250e-04   0.186  0.85260    \n",
       "AH.l2  -1.018e-01  1.057e-02  -9.630  < 2e-16 ***\n",
       "const  -1.612e-05  4.747e-04  -0.034  0.97292    \n",
       "---\n",
       "Signif. codes:  0 '***' 0.001 '**' 0.01 '*' 0.05 '.' 0.1 ' ' 1\n",
       "\n",
       "\n",
       "Residual standard error: 0.04592 on 9343 degrees of freedom\n",
       "Multiple R-Squared: 0.08665,\tAdjusted R-squared: 0.08567 \n",
       "F-statistic: 88.63 on 10 and 9343 DF,  p-value: < 2.2e-16 \n",
       "\n",
       "\n",
       "\n",
       "Covariance matrix of residuals:\n",
       "           CO       NOx       NO2        T        AH\n",
       "CO   0.493244   46.1761 8.643e+00 -0.03595  0.003697\n",
       "NOx 46.176133 6674.8638 1.159e+03 -4.38418  0.371490\n",
       "NO2  8.642516 1158.9769 3.467e+02  0.22478  0.060821\n",
       "T   -0.035952   -4.3842 2.248e-01  1.28736 -0.011297\n",
       "AH   0.003697    0.3715 6.082e-02 -0.01130  0.002108\n",
       "\n",
       "Correlation matrix of residuals:\n",
       "          CO      NOx     NO2        T       AH\n",
       "CO   1.00000  0.80476 0.66086 -0.04512  0.11464\n",
       "NOx  0.80476  1.00000 0.76182 -0.04730  0.09903\n",
       "NO2  0.66086  0.76182 1.00000  0.01064  0.07114\n",
       "T   -0.04512 -0.04730 0.01064  1.00000 -0.21684\n",
       "AH   0.11464  0.09903 0.07114 -0.21684  1.00000\n",
       "\n"
      ]
     },
     "metadata": {},
     "output_type": "display_data"
    }
   ],
   "source": [
    "### Vector autoregression model(VAR)\n",
    "require(vars)\n",
    "aq_var <- VAR(aq_diffed,lag.max = 2)\n",
    "aq_var\n",
    "summary(aq_var)"
   ]
  },
  {
   "cell_type": "code",
   "execution_count": 22,
   "metadata": {},
   "outputs": [
    {
     "data": {
      "text/html": [
       "<strong>AIC(n):</strong> 2"
      ],
      "text/latex": [
       "\\textbf{AIC(n):} 2"
      ],
      "text/markdown": [
       "**AIC(n):** 2"
      ],
      "text/plain": [
       "AIC(n) \n",
       "     2 "
      ]
     },
     "metadata": {},
     "output_type": "display_data"
    },
    {
     "data": {
      "text/html": [
       "<ol class=list-inline>\n",
       "\t<li>'CO'</li>\n",
       "\t<li>'NOx'</li>\n",
       "\t<li>'NO2'</li>\n",
       "\t<li>'T'</li>\n",
       "\t<li>'AH'</li>\n",
       "</ol>\n"
      ],
      "text/latex": [
       "\\begin{enumerate*}\n",
       "\\item 'CO'\n",
       "\\item 'NOx'\n",
       "\\item 'NO2'\n",
       "\\item 'T'\n",
       "\\item 'AH'\n",
       "\\end{enumerate*}\n"
      ],
      "text/markdown": [
       "1. 'CO'\n",
       "2. 'NOx'\n",
       "3. 'NO2'\n",
       "4. 'T'\n",
       "5. 'AH'\n",
       "\n",
       "\n"
      ],
      "text/plain": [
       "[1] \"CO\"  \"NOx\" \"NO2\" \"T\"   \"AH\" "
      ]
     },
     "metadata": {},
     "output_type": "display_data"
    },
    {
     "data": {
      "text/html": [
       "'lm'"
      ],
      "text/latex": [
       "'lm'"
      ],
      "text/markdown": [
       "'lm'"
      ],
      "text/plain": [
       "[1] \"lm\""
      ]
     },
     "metadata": {},
     "output_type": "display_data"
    },
    {
     "name": "stderr",
     "output_type": "stream",
     "text": [
      "Loading required package: coefplot\n",
      "Registered S3 methods overwritten by 'useful':\n",
      "  method       from    \n",
      "  autoplot.acf forecast\n",
      "  fortify.ts   forecast\n"
     ]
    },
    {
     "data": {
      "image/png": "[encoded data removed]",
      "text/plain": [
       "plot without title"
      ]
     },
     "metadata": {},
     "output_type": "display_data"
    }
   ],
   "source": [
    "### cofficient plot\n",
    "aq_var$p\n",
    "names(aq_var$varresult)\n",
    "class(aq_var$varresult$NO2)\n",
    "require(coefplot)\n",
    "coefplot(aq_var$varresult$NO2)"
   ]
  },
  {
   "cell_type": "code",
   "execution_count": 24,
   "metadata": {},
   "outputs": [
    {
     "data": {
      "text/plain": [
       "$CO\n",
       "            fcst     lower    upper       CI\n",
       "[1,]  0.17323128 -1.203277 1.549740 1.376508\n",
       "[2,]  0.07926983 -1.354030 1.512569 1.433300\n",
       "[3,] -0.01489282 -1.468137 1.438351 1.453244\n",
       "[4,] -0.01943841 -1.476526 1.437649 1.457088\n",
       "[5,]  0.00195783 -1.455887 1.459803 1.457845\n",
       "\n",
       "$NOx\n",
       "           fcst     lower    upper       CI\n",
       "[1,] 17.1581354 -142.9706 177.2869 160.1287\n",
       "[2,]  4.5831319 -160.3246 169.4908 164.9077\n",
       "[3,] -1.2423659 -166.5613 164.0766 165.3189\n",
       "[4,] -1.6711240 -167.2137 163.8714 165.5425\n",
       "[5,] -0.3390379 -165.8951 165.2170 165.5561\n",
       "\n",
       "$NO2\n",
       "            fcst     lower    upper       CI\n",
       "[1,]  4.56789253 -31.92826 41.06404 36.49615\n",
       "[2,]  1.30086655 -36.54222 39.14395 37.84309\n",
       "[3,]  0.23094838 -37.69025 38.15215 37.92120\n",
       "[4,] -0.08604653 -38.02937 37.85728 37.94333\n",
       "[5,] -0.02415756 -37.97147 37.92316 37.94732\n",
       "\n",
       "$T\n",
       "           fcst     lower    upper       CI\n",
       "[1,] 0.14401167 -2.079799 2.367823 2.223811\n",
       "[2,] 0.16381033 -2.317836 2.645457 2.481647\n",
       "[3,] 0.13765385 -2.484563 2.759871 2.622217\n",
       "[4,] 0.10076389 -2.577306 2.778834 2.678070\n",
       "[5,] 0.06397466 -2.637684 2.765633 2.701659\n",
       "\n",
       "$AH\n",
       "              fcst       lower      upper         CI\n",
       "[1,]  8.674795e-03 -0.08131702 0.09866661 0.08999182\n",
       "[2,]  3.894541e-03 -0.08972916 0.09751825 0.09362370\n",
       "[3,] -3.233986e-05 -0.09401114 0.09394646 0.09397880\n",
       "[4,] -8.858169e-04 -0.09498671 0.09321507 0.09410089\n",
       "[5,] -6.749402e-04 -0.09481326 0.09346337 0.09413831\n"
      ]
     },
     "metadata": {},
     "output_type": "display_data"
    }
   ],
   "source": [
    "# prediction of model\n",
    "predict(aq_var,n.ahead = 5)"
   ]
  },
  {
   "cell_type": "code",
   "execution_count": 25,
   "metadata": {},
   "outputs": [
    {
     "data": {
      "image/png": "[encoded data removed]",
      "text/plain": [
       "Plot with title \"Forecast of series AH\""
      ]
     },
     "metadata": {},
     "output_type": "display_data"
    }
   ],
   "source": [
    "plot(predict(aq_var,n.ahead = 10))"
   ]
  },
  {
   "cell_type": "code",
   "execution_count": 26,
   "metadata": {},
   "outputs": [
    {
     "data": {
      "image/png": "[encoded data removed]",
      "text/plain": [
       "Plot with title \"Forecast of series CO\""
      ]
     },
     "metadata": {},
     "output_type": "display_data"
    }
   ],
   "source": [
    "prediction<-predict(aq_var,n.ahead = 1000,ci=0.95)\n",
    "plot(prediction, names=\"CO\")"
   ]
  }
 ],
 "metadata": {
  "kernelspec": {
   "display_name": "R",
   "language": "R",
   "name": "ir"
  },
  "language_info": {
   "codemirror_mode": "r",
   "file_extension": ".r",
   "mimetype": "text/x-r-source",
   "name": "R",
   "pygments_lexer": "r",
   "version": "3.6.1"
  }
 },
 "nbformat": 4,
 "nbformat_minor": 2
}
